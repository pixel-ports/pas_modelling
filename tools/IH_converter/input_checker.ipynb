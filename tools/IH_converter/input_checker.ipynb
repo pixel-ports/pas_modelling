{
 "cells": [
  {
   "cell_type": "markdown",
   "metadata": {
    "Collapsed": "false"
   },
   "source": [
    "# PREAMBULE"
   ]
  },
  {
   "cell_type": "markdown",
   "metadata": {
    "Collapsed": "false"
   },
   "source": [
    "## Synopsis"
   ]
  },
  {
   "cell_type": "markdown",
   "metadata": {
    "Collapsed": "false"
   },
   "source": [
    "*PURPOSE*"
   ]
  },
  {
   "cell_type": "markdown",
   "metadata": {
    "Collapsed": "false"
   },
   "source": [
    "Ceci est un fork du builder de set de paramètres (en début de dév). Il est ici détourné pr vérifier les sorties du convertiseur."
   ]
  },
  {
   "cell_type": "markdown",
   "metadata": {
    "Collapsed": "false"
   },
   "source": [
    "*TODO*\n"
   ]
  },
  {
   "cell_type": "markdown",
   "metadata": {
    "Collapsed": "true",
    "heading_collapsed": true
   },
   "source": [
    "## Librairies"
   ]
  },
  {
   "cell_type": "code",
   "execution_count": 2,
   "metadata": {
    "Collapsed": "false",
    "hidden": true
   },
   "outputs": [],
   "source": [
    "# GENERAL\n",
    "\n",
    "import pandas as pd"
   ]
  },
  {
   "cell_type": "code",
   "execution_count": 3,
   "metadata": {
    "Collapsed": "false"
   },
   "outputs": [],
   "source": [
    "# GESTION JSON\n",
    "from pandas.io.json import json_normalize #package for flattening json in pandas df\n",
    "import pprint as pp #Pr des \"jolis\" prints des dic pp.pprint(*_dic)\n",
    "import json #Pr convertir les dic en json utiliser json.dump (sans S) et avoir un \"joli\" print : print(json.dumps(*_dic, sort_keys=True, indent=4))"
   ]
  },
  {
   "cell_type": "code",
   "execution_count": 4,
   "metadata": {
    "Collapsed": "false",
    "hidden": true
   },
   "outputs": [],
   "source": [
    "# AFFICHAGE NOTEBOOK\n",
    "\n",
    "from IPython.core.interactiveshell import InteractiveShell # Mettre en output toutes les sortie d'une cellule\n",
    "InteractiveShell.ast_node_interactivity = \"all\" #\"last_expr\""
   ]
  },
  {
   "cell_type": "code",
   "execution_count": 5,
   "metadata": {
    "Collapsed": "false",
    "hidden": true
   },
   "outputs": [
    {
     "data": {
      "text/html": [
       "<style>.container { width:80% !important; }</style>"
      ],
      "text/plain": [
       "<IPython.core.display.HTML object>"
      ]
     },
     "metadata": {},
     "output_type": "display_data"
    }
   ],
   "source": [
    "# Mise en forme du notebook \n",
    "\n",
    "# Nb de colonnes/ligne à afficher\n",
    "pd.set_option('display.max_columns', None)\n",
    "pd.set_option('display.max_rows', 50)\n",
    "\n",
    "# Largeur des cellules #Uniquement pr Jup Notbook ?\n",
    "from IPython.core.display import display, HTML\n",
    "display(HTML(\"<style>.container { width:80% !important; }</style>\"))\n",
    "\n",
    "# Mettre en output toutes les sortie d'une cellule\n",
    "from IPython.core.interactiveshell import InteractiveShell \n",
    "InteractiveShell.ast_node_interactivity = \"all\" #\"last_expr\"\n",
    "\n",
    "# Avoir une forme de débugger\n",
    "from IPython.core.debugger import Tracer # Plancer Tracer()() dans la fonction permet d'avoir un pas à pas, \"n(ext) line and run this one, c(ontinue) running until next breakpoint, q(uit) the debugger\""
   ]
  },
  {
   "cell_type": "code",
   "execution_count": 6,
   "metadata": {
    "Collapsed": "false",
    "hidden": true
   },
   "outputs": [],
   "source": [
    "# GRAPHIQUES\n",
    "\n",
    "import matplotlib.pyplot as plt\n",
    "plt.rcParams['figure.figsize'] = (13.0, 8.0)\n",
    "\n",
    "import seaborn as sns\n",
    "sns.set_color_codes()\n",
    "sns.set(rc={'figure.facecolor':'white'}) #Force l'arrire plan des axes en blanc, nécessaire pr IDE en black"
   ]
  },
  {
   "cell_type": "markdown",
   "metadata": {
    "Collapsed": "false"
   },
   "source": [
    "## Fonctions"
   ]
  },
  {
   "cell_type": "code",
   "execution_count": 11,
   "metadata": {
    "Collapsed": "false"
   },
   "outputs": [],
   "source": [
    "def leafExplorer(df, listeBranches):\n",
    "    '''\n",
    "    A partir d'un df contenant des colonnes dont les cellules sont des dic (et NON des array de dic), \n",
    "    extrait les dictionnaires ou les array et passe les clé en nom de colonne, puis les valeurs en \"cellule\".\n",
    "    NB : on a pr nom de colonne uniquement la clé du dic\n",
    "    '''\n",
    "   \n",
    "    for branche in listeBranches :\n",
    "        try :\n",
    "            branche in df.columns\n",
    "        except :\n",
    "            print(branche, \" n'est pas un nom de colonne présent dans le df donné !\")\n",
    "            \n",
    "        try :\n",
    "            isinstance(df[branche][0], dict)\n",
    "        except:\n",
    "            print(\"Le contenu de \", branche, \" n'est pas toujours un dict !\")\n",
    "        finally:\n",
    "            df = df.drop(branche, 1).assign(**pd.DataFrame(df[branche].values.tolist()))\n",
    "    return df;"
   ]
  },
  {
   "cell_type": "markdown",
   "metadata": {
    "Collapsed": "false"
   },
   "source": [
    "## Tampon bouts de code"
   ]
  },
  {
   "cell_type": "raw",
   "metadata": {
    "Collapsed": "false"
   },
   "source": [
    "aberrants = dal.loc[(dal[\"loading_cargo_type\"]=='') & (dal[\"unloading_cargo_type\"]==''),    :]\n",
    "\n",
    "aberrants.to_json(orient='records')"
   ]
  },
  {
   "cell_type": "raw",
   "metadata": {
    "Collapsed": "false"
   },
   "source": [
    "dic_flattened = (flatten(handlings_list) for handlings_list in flatten)\n",
    "\n",
    "for item in dic_flattened :\n",
    "    print(item)\n",
    "    \n",
    "df = pd.DataFrame(dic_flattened) #.from_records(flatten)\n",
    "\n",
    "df"
   ]
  },
  {
   "cell_type": "raw",
   "metadata": {
    "Collapsed": "false"
   },
   "source": [
    "data_IH.dropna(subset=[\"data.departure_dock\"])"
   ]
  },
  {
   "cell_type": "raw",
   "metadata": {
    "Collapsed": "false"
   },
   "source": [
    "df.to_json(\"./export.json\", orient='records')"
   ]
  },
  {
   "cell_type": "raw",
   "metadata": {
    "Collapsed": "false"
   },
   "source": [
    "def set_for_keys(my_dict, key_arr, val):\n",
    "    \"\"\"\n",
    "    Set val at path in my_dict defined by the string (or serializable object) array key_arr\n",
    "    \"\"\"\n",
    "    current = my_dict\n",
    "    for i in range(len(key_arr)):\n",
    "        key = key_arr[i]\n",
    "        if key not in current:\n",
    "            if i==len(key_arr)-1:\n",
    "                current[key] = val\n",
    "            else:\n",
    "                current[key] = {}\n",
    "        else:\n",
    "            if type(current[key]) is not dict:\n",
    "                print(\"Given dictionary is not compatible with key structure requested\")\n",
    "                raise ValueError(\"Dictionary key already occupied\")\n",
    "\n",
    "        current = current[key]\n",
    "\n",
    "    return my_dict\n",
    "\n",
    "def to_formatted_json(df, sep=\".\"):\n",
    "    result = []\n",
    "    for _, row in df.iterrows():\n",
    "        parsed_row = {}\n",
    "        for idx, val in row.iteritems():\n",
    "            keys = idx.split(sep)\n",
    "            parsed_row = set_for_keys(parsed_row, keys, val)\n",
    "\n",
    "        result.append(parsed_row)\n",
    "    return result"
   ]
  },
  {
   "cell_type": "raw",
   "metadata": {
    "Collapsed": "false"
   },
   "source": [
    "to_formatted_json(df, sep=\".\")"
   ]
  },
  {
   "cell_type": "raw",
   "metadata": {
    "Collapsed": "false"
   },
   "source": [
    "flatten(\"./filtrat_IH.json\")"
   ]
  },
  {
   "cell_type": "markdown",
   "metadata": {
    "Collapsed": "false"
   },
   "source": [
    "# ID DONNEES BRUTES"
   ]
  },
  {
   "cell_type": "raw",
   "metadata": {
    "Collapsed": "false",
    "jupyter": {
     "outputs_hidden": true
    }
   },
   "source": [
    "load = data_IH.loc[:, [\"data.loading_cargo_fiscal_type\", \"data.loading_cargo_type\", \"data.loading_berth\"]]\n",
    "load.columns = [\"Groupe\", \"Type\", \"Dock\"]\n",
    "\n",
    "unload = data_IH.loc[:, [\"data.unloading_cargo_fiscal_type\", \"data.unloading_cargo_type\", \"data.unloading_berth\"]]\n",
    "unload.columns = [\"Groupe\", \"Type\", \"Dock\"]\n",
    "\n",
    "cargo_type = pd.concat([load, unload])\n",
    "\n",
    "cargo_type.dropna(subset=[\"Type\"], inplace=True)\n",
    "\n",
    "cargo_type"
   ]
  },
  {
   "cell_type": "markdown",
   "metadata": {
    "Collapsed": "false"
   },
   "source": [
    "# CHR data"
   ]
  },
  {
   "cell_type": "markdown",
   "metadata": {
    "Collapsed": "false"
   },
   "source": [
    "## Test convertiseur"
   ]
  },
  {
   "cell_type": "code",
   "execution_count": 91,
   "metadata": {
    "Collapsed": "false"
   },
   "outputs": [],
   "source": [
    "# Test nb de valide sur sortie convertiseur\n",
    "\n",
    "with open(\"/media/DATA/CODE/1_PIXEL/1_PAS_MODELLING/tools/gpmb_ships_call_list_converter/sortie.json\") as json_file:\n",
    "    chr_json = json.load(json_file)"
   ]
  },
  {
   "cell_type": "code",
   "execution_count": 106,
   "metadata": {
    "Collapsed": "false"
   },
   "outputs": [
    {
     "data": {
      "text/plain": [
       "(20, 4)"
      ]
     },
     "execution_count": 106,
     "metadata": {},
     "output_type": "execute_result"
    },
    {
     "data": {
      "text/html": [
       "<div>\n",
       "<style scoped>\n",
       "    .dataframe tbody tr th:only-of-type {\n",
       "        vertical-align: middle;\n",
       "    }\n",
       "\n",
       "    .dataframe tbody tr th {\n",
       "        vertical-align: top;\n",
       "    }\n",
       "\n",
       "    .dataframe thead th {\n",
       "        text-align: right;\n",
       "    }\n",
       "</style>\n",
       "<table border=\"1\" class=\"dataframe\">\n",
       "  <thead>\n",
       "    <tr style=\"text-align: right;\">\n",
       "      <th></th>\n",
       "      <th>ID</th>\n",
       "      <th>handlings_list</th>\n",
       "      <th>ships_list__ID</th>\n",
       "      <th>ships_list__label</th>\n",
       "    </tr>\n",
       "  </thead>\n",
       "  <tbody>\n",
       "    <tr>\n",
       "      <th>0</th>\n",
       "      <td>20180001</td>\n",
       "      <td>[{'nature': 'cargo', 'dangerous': False, 'agen...</td>\n",
       "      <td>9571545</td>\n",
       "      <td>MUNTGRACHT</td>\n",
       "    </tr>\n",
       "    <tr>\n",
       "      <th>1</th>\n",
       "      <td>20180002</td>\n",
       "      <td>[{'nature': 'cargo', 'dangerous': False, 'agen...</td>\n",
       "      <td>9803429</td>\n",
       "      <td>TANAB</td>\n",
       "    </tr>\n",
       "    <tr>\n",
       "      <th>2</th>\n",
       "      <td>20180003</td>\n",
       "      <td>[{'nature': 'cargo', 'dangerous': False, 'agen...</td>\n",
       "      <td>9534298</td>\n",
       "      <td>JOHANN</td>\n",
       "    </tr>\n",
       "    <tr>\n",
       "      <th>3</th>\n",
       "      <td>20180004</td>\n",
       "      <td>[{'nature': 'cargo', 'dangerous': False, 'agen...</td>\n",
       "      <td>9377092</td>\n",
       "      <td>LEENI</td>\n",
       "    </tr>\n",
       "    <tr>\n",
       "      <th>4</th>\n",
       "      <td>20180006</td>\n",
       "      <td>[]</td>\n",
       "      <td>9699854</td>\n",
       "      <td>DESERT%20RANGER</td>\n",
       "    </tr>\n",
       "    <tr>\n",
       "      <th>5</th>\n",
       "      <td>20180011</td>\n",
       "      <td>[]</td>\n",
       "      <td>9291729</td>\n",
       "      <td>FEED%20ROGALAND</td>\n",
       "    </tr>\n",
       "    <tr>\n",
       "      <th>6</th>\n",
       "      <td>20180041</td>\n",
       "      <td>[]</td>\n",
       "      <td>9291729</td>\n",
       "      <td>FEED%20ROGALAND</td>\n",
       "    </tr>\n",
       "    <tr>\n",
       "      <th>7</th>\n",
       "      <td>20180012</td>\n",
       "      <td>[]</td>\n",
       "      <td>9301990</td>\n",
       "      <td>ALDEBARAN</td>\n",
       "    </tr>\n",
       "    <tr>\n",
       "      <th>8</th>\n",
       "      <td>20180014</td>\n",
       "      <td>[]</td>\n",
       "      <td>9192375</td>\n",
       "      <td>LAGUNA%20D</td>\n",
       "    </tr>\n",
       "    <tr>\n",
       "      <th>9</th>\n",
       "      <td>20180015</td>\n",
       "      <td>[]</td>\n",
       "      <td>9031428</td>\n",
       "      <td>LANDY</td>\n",
       "    </tr>\n",
       "    <tr>\n",
       "      <th>10</th>\n",
       "      <td>20180017</td>\n",
       "      <td>[{'nature': 'cargo', 'dangerous': False, 'agen...</td>\n",
       "      <td>9388388</td>\n",
       "      <td>LIBERTAS-H</td>\n",
       "    </tr>\n",
       "    <tr>\n",
       "      <th>11</th>\n",
       "      <td>20180030</td>\n",
       "      <td>[{'nature': 'cargo', 'dangerous': False, 'agen...</td>\n",
       "      <td>9388388</td>\n",
       "      <td>LIBERTAS-H</td>\n",
       "    </tr>\n",
       "    <tr>\n",
       "      <th>12</th>\n",
       "      <td>20180018</td>\n",
       "      <td>[]</td>\n",
       "      <td>9354040</td>\n",
       "      <td>LALINDE</td>\n",
       "    </tr>\n",
       "    <tr>\n",
       "      <th>13</th>\n",
       "      <td>20180019</td>\n",
       "      <td>[{'nature': 'cargo', 'dangerous': False, 'agen...</td>\n",
       "      <td>9141364</td>\n",
       "      <td>VITALITY</td>\n",
       "    </tr>\n",
       "    <tr>\n",
       "      <th>14</th>\n",
       "      <td>20180022</td>\n",
       "      <td>[{'nature': 'cargo', 'dangerous': False, 'agen...</td>\n",
       "      <td>9242558</td>\n",
       "      <td>LAURA%20ANN</td>\n",
       "    </tr>\n",
       "    <tr>\n",
       "      <th>15</th>\n",
       "      <td>20180036</td>\n",
       "      <td>[{'nature': 'cargo', 'dangerous': False, 'agen...</td>\n",
       "      <td>9242558</td>\n",
       "      <td>LAURA%20ANN</td>\n",
       "    </tr>\n",
       "    <tr>\n",
       "      <th>16</th>\n",
       "      <td>20180023</td>\n",
       "      <td>[{'nature': 'cargo', 'dangerous': False, 'agen...</td>\n",
       "      <td>9558581</td>\n",
       "      <td>MUHARREM%20DADAYLI</td>\n",
       "    </tr>\n",
       "    <tr>\n",
       "      <th>17</th>\n",
       "      <td>20180029</td>\n",
       "      <td>[{'nature': 'cargo', 'dangerous': False, 'agen...</td>\n",
       "      <td>9655016</td>\n",
       "      <td>BRISOTE</td>\n",
       "    </tr>\n",
       "    <tr>\n",
       "      <th>18</th>\n",
       "      <td>20180033</td>\n",
       "      <td>[{'nature': 'cargo', 'dangerous': False, 'agen...</td>\n",
       "      <td>9367530</td>\n",
       "      <td>CHEMWAY%20LARA</td>\n",
       "    </tr>\n",
       "    <tr>\n",
       "      <th>19</th>\n",
       "      <td>20180038</td>\n",
       "      <td>[]</td>\n",
       "      <td>9427976</td>\n",
       "      <td>FMT%20GUMULDUR</td>\n",
       "    </tr>\n",
       "  </tbody>\n",
       "</table>\n",
       "</div>"
      ],
      "text/plain": [
       "          ID                                     handlings_list  \\\n",
       "0   20180001  [{'nature': 'cargo', 'dangerous': False, 'agen...   \n",
       "1   20180002  [{'nature': 'cargo', 'dangerous': False, 'agen...   \n",
       "2   20180003  [{'nature': 'cargo', 'dangerous': False, 'agen...   \n",
       "3   20180004  [{'nature': 'cargo', 'dangerous': False, 'agen...   \n",
       "4   20180006                                                 []   \n",
       "5   20180011                                                 []   \n",
       "6   20180041                                                 []   \n",
       "7   20180012                                                 []   \n",
       "8   20180014                                                 []   \n",
       "9   20180015                                                 []   \n",
       "10  20180017  [{'nature': 'cargo', 'dangerous': False, 'agen...   \n",
       "11  20180030  [{'nature': 'cargo', 'dangerous': False, 'agen...   \n",
       "12  20180018                                                 []   \n",
       "13  20180019  [{'nature': 'cargo', 'dangerous': False, 'agen...   \n",
       "14  20180022  [{'nature': 'cargo', 'dangerous': False, 'agen...   \n",
       "15  20180036  [{'nature': 'cargo', 'dangerous': False, 'agen...   \n",
       "16  20180023  [{'nature': 'cargo', 'dangerous': False, 'agen...   \n",
       "17  20180029  [{'nature': 'cargo', 'dangerous': False, 'agen...   \n",
       "18  20180033  [{'nature': 'cargo', 'dangerous': False, 'agen...   \n",
       "19  20180038                                                 []   \n",
       "\n",
       "   ships_list__ID   ships_list__label  \n",
       "0         9571545          MUNTGRACHT  \n",
       "1         9803429               TANAB  \n",
       "2         9534298              JOHANN  \n",
       "3         9377092               LEENI  \n",
       "4         9699854     DESERT%20RANGER  \n",
       "5         9291729     FEED%20ROGALAND  \n",
       "6         9291729     FEED%20ROGALAND  \n",
       "7         9301990           ALDEBARAN  \n",
       "8         9192375          LAGUNA%20D  \n",
       "9         9031428               LANDY  \n",
       "10        9388388          LIBERTAS-H  \n",
       "11        9388388          LIBERTAS-H  \n",
       "12        9354040             LALINDE  \n",
       "13        9141364            VITALITY  \n",
       "14        9242558         LAURA%20ANN  \n",
       "15        9242558         LAURA%20ANN  \n",
       "16        9558581  MUHARREM%20DADAYLI  \n",
       "17        9655016             BRISOTE  \n",
       "18        9367530      CHEMWAY%20LARA  \n",
       "19        9427976      FMT%20GUMULDUR  "
      ]
     },
     "execution_count": 106,
     "metadata": {},
     "output_type": "execute_result"
    }
   ],
   "source": [
    "# INSTANCIATION\n",
    "\n",
    "source_df = json_normalize(\n",
    "    chr_json[0], #On filtre sur 0 car on a un seul terminal présent\n",
    "    record_path=[\n",
    "        \"ships_list\", \n",
    "        \"stopovers_list\", \n",
    "    ], \n",
    "    meta=[\n",
    "        [\"ships_list\", \"ID\"],\n",
    "        [\"ships_list\",'label'],  \n",
    "    ],\n",
    "    sep=\"__\"\n",
    ")\n",
    "\n",
    "source_df.shape\n",
    "source_df"
   ]
  },
  {
   "cell_type": "code",
   "execution_count": 115,
   "metadata": {
    "Collapsed": "false"
   },
   "outputs": [
    {
     "data": {
      "text/plain": [
       "'[]'"
      ]
     },
     "execution_count": 115,
     "metadata": {},
     "output_type": "execute_result"
    },
    {
     "ename": "IndexError",
     "evalue": ".iloc requires numeric indexers, got [list([{'nature': 'cargo', 'dangerous': False, 'agent': 'SEAINVEST', 'dock': {'ID': 435, 'ETA': '2018-01-01T18:50:00', 'ETD': '2018-01-07T21:15:00'}, 'contents': {'segment': 'SOL.V', 'direction': 'unloading', 'category': 'I.CHARBON', 'amount': 10094}}])\n list([{'nature': 'cargo', 'dangerous': False, 'agent': 'SEAINVEST', 'dock': {'ID': 436, 'ETA': '2018-01-02T18:30:00', 'ETD': '2018-01-03T19:20:00'}, 'contents': {'segment': 'LIQ.V', 'direction': 'unloading', 'category': 'I.EMHV%20-%20EMAG%20-%20FAME', 'amount': 2500}}])\n list([{'nature': 'cargo', 'dangerous': False, 'agent': 'SEAINVEST', 'dock': {'ID': 416, 'ETA': '2018-01-02T18:50:00', 'ETD': '2018-01-08T21:40:00'}, 'contents': {'segment': 'SOL.V', 'direction': 'unloading', 'category': 'I.CLINKER', 'amount': 5703}}])\n list([{'nature': 'cargo', 'dangerous': False, 'agent': 'SEAINVEST', 'dock': {'ID': 436, 'ETA': '2018-01-03T19:30:00', 'ETD': '2018-01-04T21:25:00'}, 'contents': {'segment': 'LIQ.V', 'direction': 'loading', 'category': 'E.HUILE%20TOURNESOL', 'amount': 2424}}])\n list([]) list([]) list([]) list([]) list([]) list([])\n list([{'nature': 'cargo', 'dangerous': False, 'agent': 'MSC', 'dock': {'ID': 432, 'ETA': '2018-01-10T13:00:00', 'ETD': '2018-01-11T12:50:00'}, 'contents': {'segment': 'P.C.', 'direction': 'loading', 'category': 'E.CONTENEURS', 'amount': 1217}}])\n list([{'nature': 'cargo', 'dangerous': False, 'agent': 'MSC', 'dock': {'ID': 432, 'ETA': '2018-01-20T06:10:00', 'ETD': '2018-01-20T21:20:00'}, 'contents': {'segment': 'P.C.', 'direction': 'unloading', 'category': 'I.CONTENEURS', 'amount': 3064}}])\n list([])\n list([{'nature': 'cargo', 'dangerous': False, 'agent': 'SEAINVEST', 'dock': {'ID': 449, 'ETA': '2018-01-11T15:20:00', 'ETD': '2018-01-12T15:00:00'}, 'contents': {'segment': 'CEREAL', 'direction': 'loading', 'category': 'E.MAIS%20VRAC', 'amount': 3810}}])\n list([{'nature': 'cargo', 'dangerous': False, 'agent': 'CGM', 'dock': {'ID': 432, 'ETA': '2018-01-13T03:45:00', 'ETD': '2018-01-14T01:40:00'}, 'contents': {'segment': 'P.C.', 'direction': 'loading', 'category': 'E.CONTENEURS', 'amount': 3123}}])\n list([{'nature': 'cargo', 'dangerous': False, 'agent': 'CGM', 'dock': {'ID': 432, 'ETA': '2018-01-22T21:00:00', 'ETD': '2018-01-24T12:55:00'}, 'contents': {'segment': 'P.C.', 'direction': 'loading', 'category': 'E.CONTENEURS', 'amount': 3541}}])\n list([{'nature': 'cargo', 'dangerous': False, 'agent': 'SEAINVEST', 'dock': {'ID': 433, 'ETA': '2018-01-14T17:35:00', 'ETD': '2018-01-16T20:10:00'}, 'contents': {'segment': 'SOL.V', 'direction': 'unloading', 'category': 'I.UREE%20VRAC', 'amount': 6316}}])\n list([{'nature': 'cargo', 'dangerous': False, 'agent': 'HUMANN', 'dock': {'ID': 436, 'ETA': '2018-01-19T18:45:00', 'ETD': '2018-01-20T08:15:00'}, 'contents': {'segment': 'GAZ.L', 'direction': 'unloading', 'category': 'I.BUTADIENE', 'amount': 1500}}])\n list([{'nature': 'cargo', 'dangerous': False, 'agent': 'SEAINVEST', 'dock': {'ID': 436, 'ETA': '2018-01-21T08:40:00', 'ETD': '2018-01-22T20:50:00'}, 'contents': {'segment': 'LIQ.V', 'direction': 'unloading', 'category': 'I.METHANOL', 'amount': 6017}}])\n list([])]",
     "output_type": "error",
     "traceback": [
      "\u001b[0;31m---------------------------------------------------------------------------\u001b[0m",
      "\u001b[0;31mIndexError\u001b[0m                                Traceback (most recent call last)",
      "\u001b[0;32m<ipython-input-115-86657aaba12f>\u001b[0m in \u001b[0;36m<module>\u001b[0;34m\u001b[0m\n\u001b[1;32m      3\u001b[0m \u001b[0;31m#source_df[\"handlings_list\"].str.find(a)\u001b[0m\u001b[0;34m\u001b[0m\u001b[0;34m\u001b[0m\u001b[0;34m\u001b[0m\u001b[0m\n\u001b[1;32m      4\u001b[0m \u001b[0;34m\u001b[0m\u001b[0m\n\u001b[0;32m----> 5\u001b[0;31m \u001b[0msource_df\u001b[0m\u001b[0;34m.\u001b[0m\u001b[0miloc\u001b[0m\u001b[0;34m[\u001b[0m\u001b[0;36m4\u001b[0m\u001b[0;34m,\u001b[0m\u001b[0msource_df\u001b[0m\u001b[0;34m[\u001b[0m\u001b[0;34m\"handlings_list\"\u001b[0m\u001b[0;34m]\u001b[0m\u001b[0;34m]\u001b[0m\u001b[0;34m\u001b[0m\u001b[0;34m\u001b[0m\u001b[0m\n\u001b[0m",
      "\u001b[0;32m~/anaconda3/lib/python3.7/site-packages/pandas/core/indexing.py\u001b[0m in \u001b[0;36m__getitem__\u001b[0;34m(self, key)\u001b[0m\n\u001b[1;32m   1416\u001b[0m                 \u001b[0;32mexcept\u001b[0m \u001b[0;34m(\u001b[0m\u001b[0mKeyError\u001b[0m\u001b[0;34m,\u001b[0m \u001b[0mIndexError\u001b[0m\u001b[0;34m,\u001b[0m \u001b[0mAttributeError\u001b[0m\u001b[0;34m)\u001b[0m\u001b[0;34m:\u001b[0m\u001b[0;34m\u001b[0m\u001b[0;34m\u001b[0m\u001b[0m\n\u001b[1;32m   1417\u001b[0m                     \u001b[0;32mpass\u001b[0m\u001b[0;34m\u001b[0m\u001b[0;34m\u001b[0m\u001b[0m\n\u001b[0;32m-> 1418\u001b[0;31m             \u001b[0;32mreturn\u001b[0m \u001b[0mself\u001b[0m\u001b[0;34m.\u001b[0m\u001b[0m_getitem_tuple\u001b[0m\u001b[0;34m(\u001b[0m\u001b[0mkey\u001b[0m\u001b[0;34m)\u001b[0m\u001b[0;34m\u001b[0m\u001b[0;34m\u001b[0m\u001b[0m\n\u001b[0m\u001b[1;32m   1419\u001b[0m         \u001b[0;32melse\u001b[0m\u001b[0;34m:\u001b[0m\u001b[0;34m\u001b[0m\u001b[0;34m\u001b[0m\u001b[0m\n\u001b[1;32m   1420\u001b[0m             \u001b[0;31m# we by definition only have the 0th axis\u001b[0m\u001b[0;34m\u001b[0m\u001b[0;34m\u001b[0m\u001b[0;34m\u001b[0m\u001b[0m\n",
      "\u001b[0;32m~/anaconda3/lib/python3.7/site-packages/pandas/core/indexing.py\u001b[0m in \u001b[0;36m_getitem_tuple\u001b[0;34m(self, tup)\u001b[0m\n\u001b[1;32m   2090\u001b[0m     \u001b[0;32mdef\u001b[0m \u001b[0m_getitem_tuple\u001b[0m\u001b[0;34m(\u001b[0m\u001b[0mself\u001b[0m\u001b[0;34m,\u001b[0m \u001b[0mtup\u001b[0m\u001b[0;34m)\u001b[0m\u001b[0;34m:\u001b[0m\u001b[0;34m\u001b[0m\u001b[0;34m\u001b[0m\u001b[0m\n\u001b[1;32m   2091\u001b[0m \u001b[0;34m\u001b[0m\u001b[0m\n\u001b[0;32m-> 2092\u001b[0;31m         \u001b[0mself\u001b[0m\u001b[0;34m.\u001b[0m\u001b[0m_has_valid_tuple\u001b[0m\u001b[0;34m(\u001b[0m\u001b[0mtup\u001b[0m\u001b[0;34m)\u001b[0m\u001b[0;34m\u001b[0m\u001b[0;34m\u001b[0m\u001b[0m\n\u001b[0m\u001b[1;32m   2093\u001b[0m         \u001b[0;32mtry\u001b[0m\u001b[0;34m:\u001b[0m\u001b[0;34m\u001b[0m\u001b[0;34m\u001b[0m\u001b[0m\n\u001b[1;32m   2094\u001b[0m             \u001b[0;32mreturn\u001b[0m \u001b[0mself\u001b[0m\u001b[0;34m.\u001b[0m\u001b[0m_getitem_lowerdim\u001b[0m\u001b[0;34m(\u001b[0m\u001b[0mtup\u001b[0m\u001b[0;34m)\u001b[0m\u001b[0;34m\u001b[0m\u001b[0;34m\u001b[0m\u001b[0m\n",
      "\u001b[0;32m~/anaconda3/lib/python3.7/site-packages/pandas/core/indexing.py\u001b[0m in \u001b[0;36m_has_valid_tuple\u001b[0;34m(self, key)\u001b[0m\n\u001b[1;32m    233\u001b[0m                 \u001b[0;32mraise\u001b[0m \u001b[0mIndexingError\u001b[0m\u001b[0;34m(\u001b[0m\u001b[0;34m\"Too many indexers\"\u001b[0m\u001b[0;34m)\u001b[0m\u001b[0;34m\u001b[0m\u001b[0;34m\u001b[0m\u001b[0m\n\u001b[1;32m    234\u001b[0m             \u001b[0;32mtry\u001b[0m\u001b[0;34m:\u001b[0m\u001b[0;34m\u001b[0m\u001b[0;34m\u001b[0m\u001b[0m\n\u001b[0;32m--> 235\u001b[0;31m                 \u001b[0mself\u001b[0m\u001b[0;34m.\u001b[0m\u001b[0m_validate_key\u001b[0m\u001b[0;34m(\u001b[0m\u001b[0mk\u001b[0m\u001b[0;34m,\u001b[0m \u001b[0mi\u001b[0m\u001b[0;34m)\u001b[0m\u001b[0;34m\u001b[0m\u001b[0;34m\u001b[0m\u001b[0m\n\u001b[0m\u001b[1;32m    236\u001b[0m             \u001b[0;32mexcept\u001b[0m \u001b[0mValueError\u001b[0m\u001b[0;34m:\u001b[0m\u001b[0;34m\u001b[0m\u001b[0;34m\u001b[0m\u001b[0m\n\u001b[1;32m    237\u001b[0m                 raise ValueError(\n",
      "\u001b[0;32m~/anaconda3/lib/python3.7/site-packages/pandas/core/indexing.py\u001b[0m in \u001b[0;36m_validate_key\u001b[0;34m(self, key, axis)\u001b[0m\n\u001b[1;32m   2024\u001b[0m             \u001b[0;32mif\u001b[0m \u001b[0;32mnot\u001b[0m \u001b[0mis_numeric_dtype\u001b[0m\u001b[0;34m(\u001b[0m\u001b[0marr\u001b[0m\u001b[0;34m.\u001b[0m\u001b[0mdtype\u001b[0m\u001b[0;34m)\u001b[0m\u001b[0;34m:\u001b[0m\u001b[0;34m\u001b[0m\u001b[0;34m\u001b[0m\u001b[0m\n\u001b[1;32m   2025\u001b[0m                 raise IndexError(\n\u001b[0;32m-> 2026\u001b[0;31m                     \u001b[0;34m\".iloc requires numeric indexers, got {arr}\"\u001b[0m\u001b[0;34m.\u001b[0m\u001b[0mformat\u001b[0m\u001b[0;34m(\u001b[0m\u001b[0marr\u001b[0m\u001b[0;34m=\u001b[0m\u001b[0marr\u001b[0m\u001b[0;34m)\u001b[0m\u001b[0;34m\u001b[0m\u001b[0;34m\u001b[0m\u001b[0m\n\u001b[0m\u001b[1;32m   2027\u001b[0m                 )\n\u001b[1;32m   2028\u001b[0m \u001b[0;34m\u001b[0m\u001b[0m\n",
      "\u001b[0;31mIndexError\u001b[0m: .iloc requires numeric indexers, got [list([{'nature': 'cargo', 'dangerous': False, 'agent': 'SEAINVEST', 'dock': {'ID': 435, 'ETA': '2018-01-01T18:50:00', 'ETD': '2018-01-07T21:15:00'}, 'contents': {'segment': 'SOL.V', 'direction': 'unloading', 'category': 'I.CHARBON', 'amount': 10094}}])\n list([{'nature': 'cargo', 'dangerous': False, 'agent': 'SEAINVEST', 'dock': {'ID': 436, 'ETA': '2018-01-02T18:30:00', 'ETD': '2018-01-03T19:20:00'}, 'contents': {'segment': 'LIQ.V', 'direction': 'unloading', 'category': 'I.EMHV%20-%20EMAG%20-%20FAME', 'amount': 2500}}])\n list([{'nature': 'cargo', 'dangerous': False, 'agent': 'SEAINVEST', 'dock': {'ID': 416, 'ETA': '2018-01-02T18:50:00', 'ETD': '2018-01-08T21:40:00'}, 'contents': {'segment': 'SOL.V', 'direction': 'unloading', 'category': 'I.CLINKER', 'amount': 5703}}])\n list([{'nature': 'cargo', 'dangerous': False, 'agent': 'SEAINVEST', 'dock': {'ID': 436, 'ETA': '2018-01-03T19:30:00', 'ETD': '2018-01-04T21:25:00'}, 'contents': {'segment': 'LIQ.V', 'direction': 'loading', 'category': 'E.HUILE%20TOURNESOL', 'amount': 2424}}])\n list([]) list([]) list([]) list([]) list([]) list([])\n list([{'nature': 'cargo', 'dangerous': False, 'agent': 'MSC', 'dock': {'ID': 432, 'ETA': '2018-01-10T13:00:00', 'ETD': '2018-01-11T12:50:00'}, 'contents': {'segment': 'P.C.', 'direction': 'loading', 'category': 'E.CONTENEURS', 'amount': 1217}}])\n list([{'nature': 'cargo', 'dangerous': False, 'agent': 'MSC', 'dock': {'ID': 432, 'ETA': '2018-01-20T06:10:00', 'ETD': '2018-01-20T21:20:00'}, 'contents': {'segment': 'P.C.', 'direction': 'unloading', 'category': 'I.CONTENEURS', 'amount': 3064}}])\n list([])\n list([{'nature': 'cargo', 'dangerous': False, 'agent': 'SEAINVEST', 'dock': {'ID': 449, 'ETA': '2018-01-11T15:20:00', 'ETD': '2018-01-12T15:00:00'}, 'contents': {'segment': 'CEREAL', 'direction': 'loading', 'category': 'E.MAIS%20VRAC', 'amount': 3810}}])\n list([{'nature': 'cargo', 'dangerous': False, 'agent': 'CGM', 'dock': {'ID': 432, 'ETA': '2018-01-13T03:45:00', 'ETD': '2018-01-14T01:40:00'}, 'contents': {'segment': 'P.C.', 'direction': 'loading', 'category': 'E.CONTENEURS', 'amount': 3123}}])\n list([{'nature': 'cargo', 'dangerous': False, 'agent': 'CGM', 'dock': {'ID': 432, 'ETA': '2018-01-22T21:00:00', 'ETD': '2018-01-24T12:55:00'}, 'contents': {'segment': 'P.C.', 'direction': 'loading', 'category': 'E.CONTENEURS', 'amount': 3541}}])\n list([{'nature': 'cargo', 'dangerous': False, 'agent': 'SEAINVEST', 'dock': {'ID': 433, 'ETA': '2018-01-14T17:35:00', 'ETD': '2018-01-16T20:10:00'}, 'contents': {'segment': 'SOL.V', 'direction': 'unloading', 'category': 'I.UREE%20VRAC', 'amount': 6316}}])\n list([{'nature': 'cargo', 'dangerous': False, 'agent': 'HUMANN', 'dock': {'ID': 436, 'ETA': '2018-01-19T18:45:00', 'ETD': '2018-01-20T08:15:00'}, 'contents': {'segment': 'GAZ.L', 'direction': 'unloading', 'category': 'I.BUTADIENE', 'amount': 1500}}])\n list([{'nature': 'cargo', 'dangerous': False, 'agent': 'SEAINVEST', 'dock': {'ID': 436, 'ETA': '2018-01-21T08:40:00', 'ETD': '2018-01-22T20:50:00'}, 'contents': {'segment': 'LIQ.V', 'direction': 'unloading', 'category': 'I.METHANOL', 'amount': 6017}}])\n list([])]"
     ]
    }
   ],
   "source": [
    "a=\"[]\"\n",
    "a\n",
    "#source_df[\"handlings_list\"].str.find(a)\n",
    "\n",
    "source_df.iloc[4,source_df[\"handlings_list\"]]"
   ]
  },
  {
   "cell_type": "code",
   "execution_count": 107,
   "metadata": {
    "Collapsed": "false"
   },
   "outputs": [
    {
     "data": {
      "text/html": [
       "<div>\n",
       "<style scoped>\n",
       "    .dataframe tbody tr th:only-of-type {\n",
       "        vertical-align: middle;\n",
       "    }\n",
       "\n",
       "    .dataframe tbody tr th {\n",
       "        vertical-align: top;\n",
       "    }\n",
       "\n",
       "    .dataframe thead th {\n",
       "        text-align: right;\n",
       "    }\n",
       "</style>\n",
       "<table border=\"1\" class=\"dataframe\">\n",
       "  <thead>\n",
       "    <tr style=\"text-align: right;\">\n",
       "      <th></th>\n",
       "      <th>ID</th>\n",
       "      <th>handlings_list</th>\n",
       "      <th>ships_list__ID</th>\n",
       "      <th>ships_list__label</th>\n",
       "    </tr>\n",
       "  </thead>\n",
       "  <tbody>\n",
       "  </tbody>\n",
       "</table>\n",
       "</div>"
      ],
      "text/plain": [
       "Empty DataFrame\n",
       "Columns: [ID, handlings_list, ships_list__ID, ships_list__label]\n",
       "Index: []"
      ]
     },
     "execution_count": 107,
     "metadata": {},
     "output_type": "execute_result"
    }
   ],
   "source": [
    "source_df.loc[source_df[\"handlings_list\"]==\"\\[\\]\",:]"
   ]
  },
  {
   "cell_type": "code",
   "execution_count": 102,
   "metadata": {
    "Collapsed": "false"
   },
   "outputs": [
    {
     "data": {
      "text/plain": [
       "(array([], dtype=int64), array([], dtype=int64))"
      ]
     },
     "execution_count": 102,
     "metadata": {},
     "output_type": "execute_result"
    }
   ],
   "source": [
    "# EMPTY, NAN et 0\n",
    "\n",
    "# Recherche\n",
    "np.where(source_df.applymap(lambda x: x == ''))\n",
    "\n",
    "# Remplacement\n",
    "#source_df.replace(\"\",np.nan, inplace=True)"
   ]
  },
  {
   "cell_type": "markdown",
   "metadata": {
    "Collapsed": "false"
   },
   "source": [
    "## Préparation"
   ]
  },
  {
   "cell_type": "code",
   "execution_count": 80,
   "metadata": {
    "Collapsed": "false"
   },
   "outputs": [],
   "source": [
    "# CHARGEMENT\n",
    "\n",
    "with open(\"/media/DATA/CODE/1_PIXEL/1_PAS_MODELLING/inputs/demoCHR2018/CARGOES_HANDLING_REQUESTS.json\") as json_file:\n",
    "    chr_json = json.load(json_file)"
   ]
  },
  {
   "cell_type": "code",
   "execution_count": 92,
   "metadata": {
    "Collapsed": "false"
   },
   "outputs": [
    {
     "data": {
      "text/plain": [
       "(12, 13)"
      ]
     },
     "execution_count": 92,
     "metadata": {},
     "output_type": "execute_result"
    },
    {
     "data": {
      "text/html": [
       "<div>\n",
       "<style scoped>\n",
       "    .dataframe tbody tr th:only-of-type {\n",
       "        vertical-align: middle;\n",
       "    }\n",
       "\n",
       "    .dataframe tbody tr th {\n",
       "        vertical-align: top;\n",
       "    }\n",
       "\n",
       "    .dataframe thead th {\n",
       "        text-align: right;\n",
       "    }\n",
       "</style>\n",
       "<table border=\"1\" class=\"dataframe\">\n",
       "  <thead>\n",
       "    <tr style=\"text-align: right;\">\n",
       "      <th></th>\n",
       "      <th>nature</th>\n",
       "      <th>dangerous</th>\n",
       "      <th>agent</th>\n",
       "      <th>dock__ID</th>\n",
       "      <th>dock__ETA</th>\n",
       "      <th>dock__ETD</th>\n",
       "      <th>contents__segment</th>\n",
       "      <th>contents__direction</th>\n",
       "      <th>contents__category</th>\n",
       "      <th>contents__amount</th>\n",
       "      <th>ships_list__ID</th>\n",
       "      <th>ships_list__label</th>\n",
       "      <th>ships_list__stopovers_list__ID</th>\n",
       "    </tr>\n",
       "  </thead>\n",
       "  <tbody>\n",
       "    <tr>\n",
       "      <th>0</th>\n",
       "      <td>cargo</td>\n",
       "      <td>False</td>\n",
       "      <td>SEAINVEST</td>\n",
       "      <td>435</td>\n",
       "      <td>2018-01-01T18:50:00</td>\n",
       "      <td>2018-01-07T21:15:00</td>\n",
       "      <td>SOL.V</td>\n",
       "      <td>unloading</td>\n",
       "      <td>I.CHARBON</td>\n",
       "      <td>10094</td>\n",
       "      <td>9571545</td>\n",
       "      <td>MUNTGRACHT</td>\n",
       "      <td>20180001</td>\n",
       "    </tr>\n",
       "    <tr>\n",
       "      <th>1</th>\n",
       "      <td>cargo</td>\n",
       "      <td>False</td>\n",
       "      <td>SEAINVEST</td>\n",
       "      <td>436</td>\n",
       "      <td>2018-01-02T18:30:00</td>\n",
       "      <td>2018-01-03T19:20:00</td>\n",
       "      <td>LIQ.V</td>\n",
       "      <td>unloading</td>\n",
       "      <td>I.EMHV%20-%20EMAG%20-%20FAME</td>\n",
       "      <td>2500</td>\n",
       "      <td>9803429</td>\n",
       "      <td>TANAB</td>\n",
       "      <td>20180002</td>\n",
       "    </tr>\n",
       "    <tr>\n",
       "      <th>2</th>\n",
       "      <td>cargo</td>\n",
       "      <td>False</td>\n",
       "      <td>SEAINVEST</td>\n",
       "      <td>416</td>\n",
       "      <td>2018-01-02T18:50:00</td>\n",
       "      <td>2018-01-08T21:40:00</td>\n",
       "      <td>SOL.V</td>\n",
       "      <td>unloading</td>\n",
       "      <td>I.CLINKER</td>\n",
       "      <td>5703</td>\n",
       "      <td>9534298</td>\n",
       "      <td>JOHANN</td>\n",
       "      <td>20180003</td>\n",
       "    </tr>\n",
       "    <tr>\n",
       "      <th>3</th>\n",
       "      <td>cargo</td>\n",
       "      <td>False</td>\n",
       "      <td>SEAINVEST</td>\n",
       "      <td>436</td>\n",
       "      <td>2018-01-03T19:30:00</td>\n",
       "      <td>2018-01-04T21:25:00</td>\n",
       "      <td>LIQ.V</td>\n",
       "      <td>loading</td>\n",
       "      <td>E.HUILE%20TOURNESOL</td>\n",
       "      <td>2424</td>\n",
       "      <td>9377092</td>\n",
       "      <td>LEENI</td>\n",
       "      <td>20180004</td>\n",
       "    </tr>\n",
       "    <tr>\n",
       "      <th>4</th>\n",
       "      <td>cargo</td>\n",
       "      <td>False</td>\n",
       "      <td>MSC</td>\n",
       "      <td>432</td>\n",
       "      <td>2018-01-10T13:00:00</td>\n",
       "      <td>2018-01-11T12:50:00</td>\n",
       "      <td>P.C.</td>\n",
       "      <td>loading</td>\n",
       "      <td>E.CONTENEURS</td>\n",
       "      <td>1217</td>\n",
       "      <td>9388388</td>\n",
       "      <td>LIBERTAS-H</td>\n",
       "      <td>20180017</td>\n",
       "    </tr>\n",
       "  </tbody>\n",
       "</table>\n",
       "</div>"
      ],
      "text/plain": [
       "  nature  dangerous      agent  dock__ID            dock__ETA  \\\n",
       "0  cargo      False  SEAINVEST       435  2018-01-01T18:50:00   \n",
       "1  cargo      False  SEAINVEST       436  2018-01-02T18:30:00   \n",
       "2  cargo      False  SEAINVEST       416  2018-01-02T18:50:00   \n",
       "3  cargo      False  SEAINVEST       436  2018-01-03T19:30:00   \n",
       "4  cargo      False        MSC       432  2018-01-10T13:00:00   \n",
       "\n",
       "             dock__ETD contents__segment contents__direction  \\\n",
       "0  2018-01-07T21:15:00             SOL.V           unloading   \n",
       "1  2018-01-03T19:20:00             LIQ.V           unloading   \n",
       "2  2018-01-08T21:40:00             SOL.V           unloading   \n",
       "3  2018-01-04T21:25:00             LIQ.V             loading   \n",
       "4  2018-01-11T12:50:00              P.C.             loading   \n",
       "\n",
       "             contents__category  contents__amount ships_list__ID  \\\n",
       "0                     I.CHARBON             10094        9571545   \n",
       "1  I.EMHV%20-%20EMAG%20-%20FAME              2500        9803429   \n",
       "2                     I.CLINKER              5703        9534298   \n",
       "3           E.HUILE%20TOURNESOL              2424        9377092   \n",
       "4                  E.CONTENEURS              1217        9388388   \n",
       "\n",
       "  ships_list__label ships_list__stopovers_list__ID  \n",
       "0        MUNTGRACHT                       20180001  \n",
       "1             TANAB                       20180002  \n",
       "2            JOHANN                       20180003  \n",
       "3             LEENI                       20180004  \n",
       "4        LIBERTAS-H                       20180017  "
      ]
     },
     "execution_count": 92,
     "metadata": {},
     "output_type": "execute_result"
    }
   ],
   "source": [
    "# INSTANCIATION\n",
    "\n",
    "chr_df = json_normalize(\n",
    "    chr_json[0], #On filtre sur 0 car on a un seul terminal présent\n",
    "    record_path=[\n",
    "        \"ships_list\", \n",
    "        \"stopovers_list\", \n",
    "        \"handlings_list\"\n",
    "    ], \n",
    "    meta=[\n",
    "        [\"ships_list\", \"ID\"],\n",
    "        [\"ships_list\",'label'],\n",
    "        [\"ships_list\", \"stopovers_list\", \"ID\"],    \n",
    "    ],\n",
    "    sep=\"__\"\n",
    ")\n",
    "\n",
    "chr_df.shape\n",
    "chr_df.head()"
   ]
  },
  {
   "cell_type": "code",
   "execution_count": 93,
   "metadata": {
    "Collapsed": "false"
   },
   "outputs": [
    {
     "data": {
      "text/plain": [
       "Index(['nature', 'dangerous', 'agent', 'dock__ID', 'dock__ETA', 'dock__ETD',\n",
       "       'contents__segment', 'contents__direction', 'contents__category',\n",
       "       'contents__amount', 'ships_list__ID', 'ships_list__label',\n",
       "       'ships_list__stopovers_list__ID'],\n",
       "      dtype='object')"
      ]
     },
     "execution_count": 93,
     "metadata": {},
     "output_type": "execute_result"
    }
   ],
   "source": [
    "# RENOMMAGE COLONNES\n",
    "\n",
    "chr_df.columns\n",
    "chr_df.rename(\n",
    "    columns={\n",
    "        \"dock__ID\": \"dock_ID\", \n",
    "        \"dock__ETA\": \"dock_ETA\", \n",
    "        \"dock__ETD\": \"dock_ETD\",\n",
    "        \"contents__direction\": \"direction\",\n",
    "        \"contents__category\": \"category\",\n",
    "        \"contents__amount\": \"amount\",\n",
    "        \"ships_list__ID\": \"ship_ID\",\n",
    "        \"ships_list__label\": \"ship_label\",\n",
    "        \"ships_list__stopovers_list__ID\": \"stopover_ID\",\n",
    "    },\n",
    "    errors=\"raise\",\n",
    "    inplace= True\n",
    ")"
   ]
  },
  {
   "cell_type": "code",
   "execution_count": 94,
   "metadata": {
    "Collapsed": "false"
   },
   "outputs": [
    {
     "data": {
      "text/plain": [
       "(array([], dtype=int64), array([], dtype=int64))"
      ]
     },
     "execution_count": 94,
     "metadata": {},
     "output_type": "execute_result"
    }
   ],
   "source": [
    "# EMPTY, NAN et 0\n",
    "\n",
    "# Recherche\n",
    "np.where(chr_df.applymap(lambda x: x == ''))\n",
    "\n",
    "# Remplacement\n",
    "#chr_df.replace(\"\",np.nan, inplace=True)"
   ]
  },
  {
   "cell_type": "markdown",
   "metadata": {
    "Collapsed": "false"
   },
   "source": [
    "Attention, ici les category = unknown sont des empty qui ont été remplacé. Cf le fait d'avoir des amount à 0"
   ]
  },
  {
   "cell_type": "code",
   "execution_count": 95,
   "metadata": {
    "Collapsed": "false"
   },
   "outputs": [
    {
     "data": {
      "text/plain": [
       "nature               0\n",
       "dangerous            0\n",
       "agent                0\n",
       "dock_ID              0\n",
       "dock_ETA             0\n",
       "dock_ETD             0\n",
       "contents__segment    0\n",
       "direction            0\n",
       "category             0\n",
       "amount               0\n",
       "ship_ID              0\n",
       "ship_label           0\n",
       "stopover_ID          0\n",
       "dtype: int64"
      ]
     },
     "execution_count": 95,
     "metadata": {},
     "output_type": "execute_result"
    }
   ],
   "source": [
    "# Vérification de la bijection parfaite\n",
    "\n",
    "(chr_df.loc[chr_df[\"category\"] == \"unknown\", :] != chr_df.loc[chr_df[\"amount\"] == 0, :]).sum()"
   ]
  },
  {
   "cell_type": "code",
   "execution_count": 96,
   "metadata": {
    "Collapsed": "false"
   },
   "outputs": [],
   "source": [
    "chr_df.drop(\n",
    "    chr_df.loc[chr_df[\"category\"] == \"unknown\", :].index,\n",
    "    inplace= True\n",
    ")"
   ]
  },
  {
   "cell_type": "code",
   "execution_count": 97,
   "metadata": {
    "Collapsed": "false"
   },
   "outputs": [],
   "source": [
    "# CONVERTION DE TYPE\n",
    "\n",
    "#chr_df.astype({\"data.loading_berth\":'int32'})"
   ]
  },
  {
   "cell_type": "code",
   "execution_count": 98,
   "metadata": {
    "Collapsed": "false"
   },
   "outputs": [
    {
     "data": {
      "text/plain": [
       "(12, 13)"
      ]
     },
     "execution_count": 98,
     "metadata": {},
     "output_type": "execute_result"
    }
   ],
   "source": [
    "# Nb d'enregistrement valide\n",
    "\n",
    "chr_df.shape"
   ]
  },
  {
   "cell_type": "markdown",
   "metadata": {
    "Collapsed": "false"
   },
   "source": [
    "# Dictionnaire des info pertinentes"
   ]
  },
  {
   "cell_type": "markdown",
   "metadata": {
    "Collapsed": "false"
   },
   "source": [
    "PRB : dans cet input, il n'y a pas les segments. Ce qui va être problématique pr ramener les nCCat ==> 1CSeg --> 1SC"
   ]
  },
  {
   "cell_type": "code",
   "execution_count": 116,
   "metadata": {
    "Collapsed": "false"
   },
   "outputs": [],
   "source": [
    "ct_groupe = pd.DataFrame(\n",
    "    cargo_type.groupby(\"Type\")[\"Groupe\"].agg(lambda x:x.value_counts().index[0]) #On prend uniquement la valeur la plus fréquence (possible égalité)\n",
    ")"
   ]
  },
  {
   "cell_type": "raw",
   "metadata": {
    "Collapsed": "false"
   },
   "source": [
    "#Alternative, utiliser fonction custom à appliquer :\n",
    "  \n",
    "def most_frequent(List): \n",
    "    occurence_count = Counter(List) \n",
    "    return occurence_count.most_common(1)[0][0] \n",
    "    \n",
    "List = [2, 1, 2, 2, 1, 3] \n",
    "print(most_frequent(List)) "
   ]
  },
  {
   "cell_type": "code",
   "execution_count": 117,
   "metadata": {
    "Collapsed": "false"
   },
   "outputs": [],
   "source": [
    "ct_groupe.insert(1, \"Dock\", \n",
    "                 cargo_type.groupby(\"Type\")[\"Dock\"].apply(lambda x: pd.unique(x).tolist())) #On passe en valeur la liste de tous les docks ayant correspondus"
   ]
  },
  {
   "cell_type": "markdown",
   "metadata": {
    "Collapsed": "false"
   },
   "source": [
    "# RESSOURCE"
   ]
  },
  {
   "cell_type": "code",
   "execution_count": 17,
   "metadata": {
    "Collapsed": "false"
   },
   "outputs": [
    {
     "data": {
      "text/html": [
       "<div>\n",
       "<style scoped>\n",
       "    .dataframe tbody tr th:only-of-type {\n",
       "        vertical-align: middle;\n",
       "    }\n",
       "\n",
       "    .dataframe tbody tr th {\n",
       "        vertical-align: top;\n",
       "    }\n",
       "\n",
       "    .dataframe thead th {\n",
       "        text-align: right;\n",
       "    }\n",
       "</style>\n",
       "<table border=\"1\" class=\"dataframe\">\n",
       "  <thead>\n",
       "    <tr style=\"text-align: right;\">\n",
       "      <th></th>\n",
       "      <th>ID</th>\n",
       "      <th>label</th>\n",
       "      <th>category</th>\n",
       "      <th>tag</th>\n",
       "      <th>owner</th>\n",
       "      <th>shift_ID</th>\n",
       "      <th>consumptions</th>\n",
       "      <th>throughput.Value</th>\n",
       "      <th>throughput.Unit</th>\n",
       "    </tr>\n",
       "  </thead>\n",
       "  <tbody>\n",
       "    <tr>\n",
       "      <th>0</th>\n",
       "      <td>machine_16</td>\n",
       "      <td>machine_16's name</td>\n",
       "      <td>ConvoyBelt</td>\n",
       "      <td>[]</td>\n",
       "      <td>GPMB</td>\n",
       "      <td>typical</td>\n",
       "      <td>[{'nature': 'electricity', 'value': 819, 'unit...</td>\n",
       "      <td>447</td>\n",
       "      <td>t/h</td>\n",
       "    </tr>\n",
       "    <tr>\n",
       "      <th>1</th>\n",
       "      <td>machine_1</td>\n",
       "      <td>machine_1 's name</td>\n",
       "      <td>Crane</td>\n",
       "      <td>[]</td>\n",
       "      <td>SPBL</td>\n",
       "      <td>typical</td>\n",
       "      <td>[{'nature': 'electricity', 'value': 805, 'unit...</td>\n",
       "      <td>417</td>\n",
       "      <td>t/h</td>\n",
       "    </tr>\n",
       "    <tr>\n",
       "      <th>2</th>\n",
       "      <td>machine_31</td>\n",
       "      <td>machine_31's name</td>\n",
       "      <td>Crane</td>\n",
       "      <td>[]</td>\n",
       "      <td>SPBL</td>\n",
       "      <td>typical</td>\n",
       "      <td>[{'nature': 'electricity', 'value': 866, 'unit...</td>\n",
       "      <td>330</td>\n",
       "      <td>t/h</td>\n",
       "    </tr>\n",
       "    <tr>\n",
       "      <th>3</th>\n",
       "      <td>machine_2</td>\n",
       "      <td>machine_2's name</td>\n",
       "      <td>Other</td>\n",
       "      <td>[]</td>\n",
       "      <td>GPMB</td>\n",
       "      <td>typical</td>\n",
       "      <td>[{'nature': 'petrol', 'value': 14, 'unit': 'L'}]</td>\n",
       "      <td>870</td>\n",
       "      <td>t/h</td>\n",
       "    </tr>\n",
       "    <tr>\n",
       "      <th>4</th>\n",
       "      <td>machine_17</td>\n",
       "      <td>machine_17's name</td>\n",
       "      <td>Schouler</td>\n",
       "      <td>[]</td>\n",
       "      <td>SPBL</td>\n",
       "      <td>typical</td>\n",
       "      <td>[{'nature': 'gazol', 'value': 23, 'unit': 'L'}]</td>\n",
       "      <td>972</td>\n",
       "      <td>t/h</td>\n",
       "    </tr>\n",
       "  </tbody>\n",
       "</table>\n",
       "</div>"
      ],
      "text/plain": [
       "           ID              label    category tag owner shift_ID  \\\n",
       "0  machine_16  machine_16's name  ConvoyBelt  []  GPMB  typical   \n",
       "1   machine_1  machine_1 's name       Crane  []  SPBL  typical   \n",
       "2  machine_31  machine_31's name       Crane  []  SPBL  typical   \n",
       "3   machine_2   machine_2's name       Other  []  GPMB  typical   \n",
       "4  machine_17  machine_17's name    Schouler  []  SPBL  typical   \n",
       "\n",
       "                                        consumptions  throughput.Value  \\\n",
       "0  [{'nature': 'electricity', 'value': 819, 'unit...               447   \n",
       "1  [{'nature': 'electricity', 'value': 805, 'unit...               417   \n",
       "2  [{'nature': 'electricity', 'value': 866, 'unit...               330   \n",
       "3   [{'nature': 'petrol', 'value': 14, 'unit': 'L'}]               870   \n",
       "4    [{'nature': 'gazol', 'value': 23, 'unit': 'L'}]               972   \n",
       "\n",
       "  throughput.Unit  \n",
       "0             t/h  \n",
       "1             t/h  \n",
       "2             t/h  \n",
       "3             t/h  \n",
       "4             t/h  "
      ]
     },
     "execution_count": 17,
     "metadata": {},
     "output_type": "execute_result"
    }
   ],
   "source": [
    "#load json object\n",
    "with open('./RESSOURCES_demo.json') as json_file:\n",
    "    ressources = json.load(json_file)\n",
    "\n",
    "ressources = json_normalize(ressources['machines'])\n",
    "\n",
    "\n",
    "ressources.head()"
   ]
  },
  {
   "cell_type": "markdown",
   "metadata": {
    "Collapsed": "false"
   },
   "source": [
    "# OUTPUT"
   ]
  },
  {
   "cell_type": "code",
   "execution_count": 19,
   "metadata": {
    "Collapsed": "false"
   },
   "outputs": [
    {
     "data": {
      "text/html": [
       "<div>\n",
       "<style scoped>\n",
       "    .dataframe tbody tr th:only-of-type {\n",
       "        vertical-align: middle;\n",
       "    }\n",
       "\n",
       "    .dataframe tbody tr th {\n",
       "        vertical-align: top;\n",
       "    }\n",
       "\n",
       "    .dataframe thead th {\n",
       "        text-align: right;\n",
       "    }\n",
       "</style>\n",
       "<table border=\"1\" class=\"dataframe\">\n",
       "  <thead>\n",
       "    <tr style=\"text-align: right;\">\n",
       "      <th></th>\n",
       "      <th>ID</th>\n",
       "      <th>label</th>\n",
       "      <th>stopovers_list</th>\n",
       "    </tr>\n",
       "  </thead>\n",
       "  <tbody>\n",
       "    <tr>\n",
       "      <th>0</th>\n",
       "      <td>9571545</td>\n",
       "      <td>MUNTGRACHT</td>\n",
       "      <td>[{'ID': 20180001, 'handlings_list': [{'ID': 0,...</td>\n",
       "    </tr>\n",
       "    <tr>\n",
       "      <th>1</th>\n",
       "      <td>9803429</td>\n",
       "      <td>TANAB</td>\n",
       "      <td>[{'ID': 20180002, 'handlings_list': [{'ID': 1,...</td>\n",
       "    </tr>\n",
       "    <tr>\n",
       "      <th>2</th>\n",
       "      <td>9534298</td>\n",
       "      <td>JOHANN</td>\n",
       "      <td>[{'ID': 20180003, 'handlings_list': [{'ID': 2,...</td>\n",
       "    </tr>\n",
       "    <tr>\n",
       "      <th>3</th>\n",
       "      <td>9377092</td>\n",
       "      <td>LEENI</td>\n",
       "      <td>[{'ID': 20180004, 'handlings_list': [{'ID': 3,...</td>\n",
       "    </tr>\n",
       "    <tr>\n",
       "      <th>4</th>\n",
       "      <td>9699854</td>\n",
       "      <td>DESERT%20RANGER</td>\n",
       "      <td>[{'ID': 20180006, 'handlings_list': [{'ID': 4,...</td>\n",
       "    </tr>\n",
       "  </tbody>\n",
       "</table>\n",
       "</div>"
      ],
      "text/plain": [
       "         ID            label  \\\n",
       "0   9571545       MUNTGRACHT   \n",
       "1   9803429            TANAB   \n",
       "2   9534298           JOHANN   \n",
       "3   9377092            LEENI   \n",
       "4   9699854  DESERT%20RANGER   \n",
       "\n",
       "                                      stopovers_list  \n",
       "0  [{'ID': 20180001, 'handlings_list': [{'ID': 0,...  \n",
       "1  [{'ID': 20180002, 'handlings_list': [{'ID': 1,...  \n",
       "2  [{'ID': 20180003, 'handlings_list': [{'ID': 2,...  \n",
       "3  [{'ID': 20180004, 'handlings_list': [{'ID': 3,...  \n",
       "4  [{'ID': 20180006, 'handlings_list': [{'ID': 4,...  "
      ]
     },
     "execution_count": 19,
     "metadata": {},
     "output_type": "execute_result"
    }
   ],
   "source": [
    "#load json object\n",
    "with open('./Service Output Extended.json') as json_file:\n",
    "    output = json.load(json_file)\n",
    "\n",
    "output = json_normalize(output)\n",
    "\n",
    "\n",
    "output.head()"
   ]
  }
 ],
 "metadata": {
  "kernelspec": {
   "display_name": "Python 3",
   "language": "python",
   "name": "python3"
  },
  "language_info": {
   "codemirror_mode": {
    "name": "ipython",
    "version": 3
   },
   "file_extension": ".py",
   "mimetype": "text/x-python",
   "name": "python",
   "nbconvert_exporter": "python",
   "pygments_lexer": "ipython3",
   "version": "3.7.6"
  },
  "toc": {
   "base_numbering": 1,
   "nav_menu": {
    "height": "381px",
    "width": "484px"
   },
   "number_sections": true,
   "sideBar": true,
   "skip_h1_title": false,
   "title_cell": "Table of Contents",
   "title_sidebar": "Contents",
   "toc_cell": false,
   "toc_position": {
    "height": "calc(100% - 180px)",
    "left": "10px",
    "top": "150px",
    "width": "219.2px"
   },
   "toc_section_display": true,
   "toc_window_display": true
  },
  "toc-autonumbering": true,
  "varInspector": {
   "cols": {
    "lenName": 16,
    "lenType": 16,
    "lenVar": 40
   },
   "kernels_config": {
    "python": {
     "delete_cmd_postfix": "",
     "delete_cmd_prefix": "del ",
     "library": "var_list.py",
     "varRefreshCmd": "print(var_dic_list())"
    },
    "r": {
     "delete_cmd_postfix": ") ",
     "delete_cmd_prefix": "rm(",
     "library": "var_list.r",
     "varRefreshCmd": "cat(var_dic_list()) "
    }
   },
   "types_to_exclude": [
    "module",
    "function",
    "builtin_function_or_method",
    "instance",
    "_Feature"
   ],
   "window_display": false
  }
 },
 "nbformat": 4,
 "nbformat_minor": 4
}