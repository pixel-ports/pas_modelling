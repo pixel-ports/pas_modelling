{
 "cells": [
  {
   "cell_type": "markdown",
   "metadata": {
	"Collapsed": "false"
   },
   "source": [
	"# PREAMBULE"
   ]
  },
  {
   "cell_type": "markdown",
   "metadata": {
	"Collapsed": "true"
   },
   "source": [
	"## Synopsis\n",
	"\n",
	"Purpose \n",
	"A partir des données de transit de bateau d'un port, générer un set de paramètres pour le PAS modelling. Non pas un set final, mais une première\n",
	"trame. \n",
	"Principe \n",
	"Basé sur le cas des données de l'IH de GPMB: - prendre les infos exploitable - sortir pr chaque categorie de cargaison : - le segment - la liste des\n",
	"docks observés - ajouter les info nécessaire pour générer Rules (on présupose une SC par tuple (direction, segment)) \n",
	"Use Example \n",
	"Current state \n",
	"Embryonnaire : simplement la restructuration des infos sous un df pertinent. \n",
	"To Do \n",
	"[] Générer les différents json de paramètres. [] N'enregistrer un handling que s'il respecte le json-schema (attention, on parle ici d'une sous\n",
	"structure précisément pr un handling, pas pour l'input CHR entier) ==> subdiviser le json-schema de CHR et l'appeler pr le test [] A la cloture,\n",
	"vérifier que l'input est valide vis à vis des schémas : - par item - au global \n",
	"Change Lo"
   ]
  },
  {
   "cell_type": "markdown",
   "metadata": {
	"Collapsed": "false"
   },
   "source": [
	"*PURPOSE*"
   ]
  },
  {
   "cell_type": "markdown",
   "metadata": {
	"Collapsed": "false"
   },
   "source": [
	"Ceci est un fork du builder de set de paramètres (en début de dév). Il est ici détourné pr vérifier les sorties du convertiseur."
   ]
  },
  {
   "cell_type": "markdown",
   "metadata": {
	"Collapsed": "false"
   },
   "source": [
	"*TODO*\n"
   ]
  },
  {
   "cell_type": "markdown",
   "metadata": {
	"Collapsed": "false",
	"heading_collapsed": true
   },
   "source": [
	"## Librairies"
   ]
  },
  {
   "cell_type": "code",
   "execution_count": 209,
   "metadata": {
	"Collapsed": "false",
	"hidden": true
   },
   "outputs": [],
   "source": [
	"# GENERAL\n",
	"\n",
	"import pandas as pd\n",
	"import numpy as np"
   ]
  },
  {
   "cell_type": "code",
   "execution_count": 210,
   "metadata": {
	"Collapsed": "false"
   },
   "outputs": [],
   "source": [
	"# GESTION JSON\n",
	"\n",
	"#from pandas.io.json import json_normalize #package for flattening json in pandas df <<Périmé en pandas v1\n",
	"import pprint \n",
	"import json\n",
	"import jsonschema"
   ]
  },
  {
   "cell_type": "code",
   "execution_count": 211,
   "metadata": {
	"Collapsed": "false",
	"hidden": true
   },
   "outputs": [],
   "source": [
	"# AFFICHAGE NOTEBOOK\n",
	"\n",
	"from IPython.core.interactiveshell import InteractiveShell # Mettre en output toutes les sortie d'une cellule\n",
	"InteractiveShell.ast_node_interactivity = \"all\" #\"last_expr\""
   ]
  },
  {
   "cell_type": "code",
   "execution_count": 212,
   "metadata": {
	"Collapsed": "false",
	"hidden": true
   },
   "outputs": [
	{
	 "data": {
	  "text/html": [
	   "<style>.container { width:80% !important; }</style>"
	  ],
	  "text/plain": [
	   "<IPython.core.display.HTML object>"
	  ]
	 },
	 "metadata": {},
	 "output_type": "display_data"
	}
   ],
   "source": [
	"# Mise en forme du notebook \n",
	"\n",
	"# Nb de colonnes/ligne à afficher\n",
	"pd.set_option('display.max_columns', None)\n",
	"pd.set_option('display.max_rows', 50)\n",
	"\n",
	"# Largeur des cellules #Uniquement pr Jup Notbook ?\n",
	"from IPython.core.display import display, HTML\n",
	"display(HTML(\"<style>.container { width:80% !important; }</style>\"))\n",
	"\n",
	"# Mettre en output toutes les sortie d'une cellule\n",
	"from IPython.core.interactiveshell import InteractiveShell \n",
	"InteractiveShell.ast_node_interactivity = \"all\" #\"last_expr\"\n",
	"\n",
	"# Avoir une forme de débugger\n",
	"from IPython.core.debugger import Tracer # Plancer Tracer()() dans la fonction permet d'avoir un pas à pas, \"n(ext) line and run this one, c(ontinue) running until next breakpoint, q(uit) the debugger\""
   ]
  },
  {
   "cell_type": "raw",
   "metadata": {
	"Collapsed": "false",
	"hidden": true
   },
   "source": [
	"# GRAPHIQUES\n",
	"\n",
	"import matplotlib.pyplot as plt\n",
	"plt.rcParams['figure.figsize'] = (13.0, 8.0)\n",
	"\n",
	"import seaborn as sns\n",
	"sns.set_color_codes()\n",
	"sns.set(rc={'figure.facecolor':'white'}) #Force l'arrire plan des axes en blanc, nécessaire pr IDE en black"
   ]
  },
  {
   "cell_type": "markdown",
   "metadata": {
	"Collapsed": "false"
   },
   "source": [
	"## Fonctions"
   ]
  },
  {
   "cell_type": "code",
   "execution_count": 213,
   "metadata": {
	"Collapsed": "false"
   },
   "outputs": [],
   "source": [
	"def leafExplorer(df, listeBranches):\n",
	"	'''\n",
	"	A partir d'un df contenant des colonnes dont les cellules sont des dic (et NON des array de dic), \n",
	"	extrait les dictionnaires ou les array et passe les clé en nom de colonne, puis les valeurs en \"cellule\".\n",
	"	NB : on a pr nom de colonne uniquement la clé du dic\n",
	"	'''\n",
	"   \n",
	"	for branche in listeBranches :\n",
	"		try :\n",
	"			branche in df.columns\n",
	"		except :\n",
	"			print(branche, \" n'est pas un nom de colonne présent dans le df donné !\")\n",
	"			\n",
	"		try :\n",
	"			isinstance(df[branche][0], dict)\n",
	"		except:\n",
	"			print(\"Le contenu de \", branche, \" n'est pas toujours un dict !\")\n",
	"		finally:\n",
	"			df = df.drop(branche, 1).assign(**pd.DataFrame(df[branche].values.tolist()))\n",
	"	return df;"
   ]
  },
  {
   "cell_type": "code",
   "execution_count": 214,
   "metadata": {
	"Collapsed": "false"
   },
   "outputs": [],
   "source": [
	"def jprint (json_like_item, structure = 'dict'):\n",
	"	'''\n",
	"	Affiche de manière plus lisible le json (instance sous forme de string)\n",
	"	'''\n",
	"	if structure == 'dict':\n",
	"		print(\n",
	"			json.dumps(\n",
	"				json.load(\n",
	"					json_like_item), \n",
	"				indent=4, \n",
	"				sort_keys=True\n",
	"			)\n",
	"		)\n",
	"	elif structure == 'json':\n",
	"		print(\n",
	"			json.dumps(\n",
	"				json.loads(\n",
	"					json_like_item), \n",
	"				indent=4, \n",
	"				sort_keys=True\n",
	"			)\n",
	"		)"
   ]
  },
  {
   "cell_type": "code",
   "execution_count": 215,
   "metadata": {
	"Collapsed": "false"
   },
   "outputs": [
	{
	 "ename": "FileNotFoundError",
	 "evalue": "[Errno 2] No such file or directory: '../json_checker/json_schemas/SUPPLYCHAINS_schema.json'",
	 "output_type": "error",
	 "traceback": [
	  "\u001b[0;31m---------------------------------------------------------------------------\u001b[0m",
	  "\u001b[0;31mFileNotFoundError\u001b[0m						 Traceback (most recent call last)",
	  "\u001b[0;32m<ipython-input-215-6dc171d473ae>\u001b[0m in \u001b[0;36m<module>\u001b[0;34m\u001b[0m\n\u001b[1;32m	  1\u001b[0m \u001b[0;31m# Controle de validité\u001b[0m\u001b[0;34m\u001b[0m\u001b[0;34m\u001b[0m\u001b[0;34m\u001b[0m\u001b[0m\n\u001b[1;32m	  2\u001b[0m \u001b[0;34m\u001b[0m\u001b[0m\n\u001b[0;32m----> 3\u001b[0;31m \u001b[0;32mwith\u001b[0m \u001b[0mopen\u001b[0m\u001b[0;34m(\u001b[0m\u001b[0;34m\"../json_checker/json_schemas/SUPPLYCHAINS_schema.json\"\u001b[0m\u001b[0;34m)\u001b[0m \u001b[0;32mas\u001b[0m \u001b[0mschemaJson_file\u001b[0m\u001b[0;34m:\u001b[0m\u001b[0;34m\u001b[0m\u001b[0;34m\u001b[0m\u001b[0m\n\u001b[0m\u001b[1;32m	  4\u001b[0m	 \u001b[0mschema_json_i\u001b[0m \u001b[0;34m=\u001b[0m \u001b[0mjson\u001b[0m\u001b[0;34m.\u001b[0m\u001b[0mload\u001b[0m\u001b[0;34m(\u001b[0m\u001b[0mschemaJson_file\u001b[0m\u001b[0;34m)\u001b[0m\u001b[0;34m\u001b[0m\u001b[0;34m\u001b[0m\u001b[0m\n\u001b[1;32m	  5\u001b[0m \u001b[0;34m\u001b[0m\u001b[0m\n",
	  "\u001b[0;31mFileNotFoundError\u001b[0m: [Errno 2] No such file or directory: '../json_checker/json_schemas/SUPPLYCHAINS_schema.json'"
	 ]
	}
   ],
   "source": [
	"# Controle de validité \n",
	"\n",
	"with open(\"../json_checker/json_schemas/SUPPLYCHAINS_schema.json\") as schemaJson_file:\n",
	"	schema_json_i = json.load(schemaJson_file)\n",
	"\n",
	"jsonschema.validate(instance= supChain_Json, schema=schema_json_i)"
   ]
  },
  {
   "cell_type": "code",
   "execution_count": null,
   "metadata": {
	"Collapsed": "false"
   },
   "outputs": [],
   "source": [
	"# Export du json\n",
	"\n",
	"def exportJson(item, full_path):\n",
	"	with open(full_path, \"w\") as file:\n",
	"			file.write(\n",
	"				json.dumps(\n",
	"					item, \n",
	"					indent=4, \n",
	"					ensure_ascii=False\n",
	"				)\n",
	"			)"
   ]
  },
  {
   "cell_type": "markdown",
   "metadata": {
	"Collapsed": "true"
   },
   "source": [
	"## Tampon bouts de code"
   ]
  },
  {
   "cell_type": "raw",
   "metadata": {
	"Collapsed": "false"
   },
   "source": [
	"aberrants = dal.loc[(dal[\"loading_cargo_type\"]=='') & (dal[\"unloading_cargo_type\"]==''),	:]\n",
	"\n",
	"aberrants.to_json(orient='records')"
   ]
  },
  {
   "cell_type": "raw",
   "metadata": {
	"Collapsed": "false"
   },
   "source": [
	"dic_flattened = (flatten(handlings_list) for handlings_list in flatten)\n",
	"\n",
	"for item in dic_flattened :\n",
	"	print(item)\n",
	"	\n",
	"df = pd.DataFrame(dic_flattened) #.from_records(flatten)\n",
	"\n",
	"df"
   ]
  },
  {
   "cell_type": "raw",
   "metadata": {
	"Collapsed": "false"
   },
   "source": [
	"data_IH.dropna(subset=[\"data.departure_handling_dock\"])"
   ]
  },
  {
   "cell_type": "raw",
   "metadata": {
	"Collapsed": "false"
   },
   "source": [
	"df.to_json(\"./export.json\", orient='records')"
   ]
  },
  {
   "cell_type": "raw",
   "metadata": {
	"Collapsed": "false"
   },
   "source": [
	"def set_for_keys(my_dict, key_arr, val):\n",
	"	\"\"\"\n",
	"	Set val at path in my_dict defined by the string (or serializable object) array key_arr\n",
	"	\"\"\"\n",
	"	current = my_dict\n",
	"	for i in range(len(key_arr)):\n",
	"		key = key_arr[i]\n",
	"		if key not in current:\n",
	"			if i==len(key_arr)-1:\n",
	"				current[key] = val\n",
	"			else:\n",
	"				current[key] = {}\n",
	"		else:\n",
	"			if type(current[key]) is not dict:\n",
	"				print(\"Given dictionary is not compatible with key structure requested\")\n",
	"				raise ValueError(\"Dictionary key already occupied\")\n",
	"\n",
	"		current = current[key]\n",
	"\n",
	"	return my_dict\n",
	"\n",
	"def to_formatted_json(df, sep=\".\"):\n",
	"	result = []\n",
	"	for _, row in df.iterrows():\n",
	"		parsed_row = {}\n",
	"		for idx, val in row.iteritems():\n",
	"			keys = idx.split(sep)\n",
	"			parsed_row = set_for_keys(parsed_row, keys, val)\n",
	"\n",
	"		result.append(parsed_row)\n",
	"	return result"
   ]
  },
  {
   "cell_type": "raw",
   "metadata": {
	"Collapsed": "false"
   },
   "source": [
	"to_formatted_json(df, sep=\".\")"
   ]
  },
  {
   "cell_type": "raw",
   "metadata": {
	"Collapsed": "false"
   },
   "source": [
	"flatten(\"./filtrat_IH.json\")"
   ]
  },
  {
   "cell_type": "markdown",
   "metadata": {
	"Collapsed": "false"
   },
   "source": [
	"# STOPOVERS IH"
   ]
  },
  {
   "cell_type": "code",
   "execution_count": 219,
   "metadata": {
	"Collapsed": "false"
   },
   "outputs": [
	{
	 "data": {
	  "text/html": [
	   "<div>\n",
	   "<style scoped>\n",
	   "	.dataframe tbody tr th:only-of-type {\n",
	   "		vertical-align: middle;\n",
	   "	}\n",
	   "\n",
	   "	.dataframe tbody tr th {\n",
	   "		vertical-align: top;\n",
	   "	}\n",
	   "\n",
	   "	.dataframe thead th {\n",
	   "		text-align: right;\n",
	   "	}\n",
	   "</style>\n",
	   "<table border=\"1\" class=\"dataframe\">\n",
	   "  <thead>\n",
	   "	<tr style=\"text-align: right;\">\n",
	   "	  <th></th>\n",
	   "	  <th>timestamp</th>\n",
	   "	  <th>departure_handling_dock</th>\n",
	   "	  <th>loading_cargo_type</th>\n",
	   "	  <th>IMO</th>\n",
	   "	  <th>loading_berth</th>\n",
	   "	  <th>source</th>\n",
	   "	  <th>loading_cargo_fiscal_type</th>\n",
	   "	  <th>journeyid</th>\n",
	   "	  <th>loading_dangerous</th>\n",
	   "	  <th>unloading_tonnage</th>\n",
	   "	  <th>arrival_handling_dock</th>\n",
	   "	  <th>pixel_etd</th>\n",
	   "	  <th>unloading_cargo_fiscal_type</th>\n",
	   "	  <th>loading_tonnage</th>\n",
	   "	  <th>unloading_cargo_type</th>\n",
	   "	  <th>unloading_agent</th>\n",
	   "	  <th>unloading_berth</th>\n",
	   "	  <th>name</th>\n",
	   "	  <th>unloading_dangerous</th>\n",
	   "	  <th>location__lon</th>\n",
	   "	  <th>location__lat</th>\n",
	   "	  <th>dataProvider</th>\n",
	   "	  <th>operation</th>\n",
	   "	  <th>loading_agent</th>\n",
	   "	</tr>\n",
	   "  </thead>\n",
	   "  <tbody>\n",
	   "	<tr>\n",
	   "	  <th>0</th>\n",
	   "	  <td>1576531926565</td>\n",
	   "	  <td>1.515360e+12</td>\n",
	   "	  <td></td>\n",
	   "	  <td>9571545</td>\n",
	   "	  <td>435.0</td>\n",
	   "	  <td>FR_BAS/vcall</td>\n",
	   "	  <td>SOL.V</td>\n",
	   "	  <td>20180001</td>\n",
	   "	  <td>False</td>\n",
	   "	  <td>10094.0</td>\n",
	   "	  <td>1.514833e+12</td>\n",
	   "	  <td>1.515267e+12</td>\n",
	   "	  <td>SOL.V</td>\n",
	   "	  <td>0.0</td>\n",
	   "	  <td>I.CHARBON</td>\n",
	   "	  <td>SEAINVEST</td>\n",
	   "	  <td>435.0</td>\n",
	   "	  <td>MUNTGRACHT</td>\n",
	   "	  <td>False</td>\n",
	   "	  <td>44.863</td>\n",
	   "	  <td>-0.5472</td>\n",
	   "	  <td>http://FR_BAS/vcall</td>\n",
	   "	  <td>unloading</td>\n",
	   "	  <td>SEAINVEST</td>\n",
	   "	</tr>\n",
	   "	<tr>\n",
	   "	  <th>1</th>\n",
	   "	  <td>1576531926565</td>\n",
	   "	  <td>1.515007e+12</td>\n",
	   "	  <td></td>\n",
	   "	  <td>9803429</td>\n",
	   "	  <td>436.0</td>\n",
	   "	  <td>FR_BAS/vcall</td>\n",
	   "	  <td>LIQ.V</td>\n",
	   "	  <td>20180002</td>\n",
	   "	  <td>False</td>\n",
	   "	  <td>2500.0</td>\n",
	   "	  <td>1.514918e+12</td>\n",
	   "	  <td>1.515026e+12</td>\n",
	   "	  <td>LIQ.V</td>\n",
	   "	  <td>0.0</td>\n",
	   "	  <td>I.EMHV - EMAG - FAME</td>\n",
	   "	  <td>SEAINVEST</td>\n",
	   "	  <td>436.0</td>\n",
	   "	  <td>TANAB</td>\n",
	   "	  <td>False</td>\n",
	   "	  <td>44.863</td>\n",
	   "	  <td>-0.5472</td>\n",
	   "	  <td>http://FR_BAS/vcall</td>\n",
	   "	  <td>unloading</td>\n",
	   "	  <td>SEAINVEST</td>\n",
	   "	</tr>\n",
	   "	<tr>\n",
	   "	  <th>2</th>\n",
	   "	  <td>1576531926565</td>\n",
	   "	  <td>1.515448e+12</td>\n",
	   "	  <td></td>\n",
	   "	  <td>9534298</td>\n",
	   "	  <td>416.0</td>\n",
	   "	  <td>FR_BAS/vcall</td>\n",
	   "	  <td>SOL.V</td>\n",
	   "	  <td>20180003</td>\n",
	   "	  <td>False</td>\n",
	   "	  <td>5703.0</td>\n",
	   "	  <td>1.514919e+12</td>\n",
	   "	  <td>1.515250e+12</td>\n",
	   "	  <td>SOL.V</td>\n",
	   "	  <td>0.0</td>\n",
	   "	  <td>I.CLINKER</td>\n",
	   "	  <td>SEAINVEST</td>\n",
	   "	  <td>416.0</td>\n",
	   "	  <td>JOHANN</td>\n",
	   "	  <td>False</td>\n",
	   "	  <td>44.863</td>\n",
	   "	  <td>-0.5472</td>\n",
	   "	  <td>http://FR_BAS/vcall</td>\n",
	   "	  <td>unloading</td>\n",
	   "	  <td>SEAINVEST</td>\n",
	   "	</tr>\n",
	   "	<tr>\n",
	   "	  <th>3</th>\n",
	   "	  <td>1576531926566</td>\n",
	   "	  <td>1.515101e+12</td>\n",
	   "	  <td>E.HUILE TOURNESOL</td>\n",
	   "	  <td>9377092</td>\n",
	   "	  <td>436.0</td>\n",
	   "	  <td>FR_BAS/vcall</td>\n",
	   "	  <td>LIQ.V</td>\n",
	   "	  <td>20180004</td>\n",
	   "	  <td>False</td>\n",
	   "	  <td>0.0</td>\n",
	   "	  <td>1.515008e+12</td>\n",
	   "	  <td>1.515151e+12</td>\n",
	   "	  <td>LIQ.V</td>\n",
	   "	  <td>2424.0</td>\n",
	   "	  <td></td>\n",
	   "	  <td>SEAINVEST</td>\n",
	   "	  <td>436.0</td>\n",
	   "	  <td>LEENI</td>\n",
	   "	  <td>False</td>\n",
	   "	  <td>44.863</td>\n",
	   "	  <td>-0.5472</td>\n",
	   "	  <td>http://FR_BAS/vcall</td>\n",
	   "	  <td>loading</td>\n",
	   "	  <td>SEAINVEST</td>\n",
	   "	</tr>\n",
	   "	<tr>\n",
	   "	  <th>4</th>\n",
	   "	  <td>1576531926567</td>\n",
	   "	  <td>1.517341e+12</td>\n",
	   "	  <td></td>\n",
	   "	  <td>9699854</td>\n",
	   "	  <td>434.0</td>\n",
	   "	  <td>FR_BAS/vcall</td>\n",
	   "	  <td>SOL.V</td>\n",
	   "	  <td>20180006</td>\n",
	   "	  <td>False</td>\n",
	   "	  <td>32351.0</td>\n",
	   "	  <td>1.515234e+12</td>\n",
	   "	  <td>1.515706e+12</td>\n",
	   "	  <td>SOL.V</td>\n",
	   "	  <td>0.0</td>\n",
	   "	  <td>I.TOURNESOL VRAC</td>\n",
	   "	  <td>MARMEDSA</td>\n",
	   "	  <td>413.0</td>\n",
	   "	  <td>DESERT RANGER</td>\n",
	   "	  <td>False</td>\n",
	   "	  <td>44.863</td>\n",
	   "	  <td>-0.5472</td>\n",
	   "	  <td>http://FR_BAS/vcall</td>\n",
	   "	  <td>loading</td>\n",
	   "	  <td>MARMEDSA</td>\n",
	   "	</tr>\n",
	   "	<tr>\n",
	   "	  <th>...</th>\n",
	   "	  <td>...</td>\n",
	   "	  <td>...</td>\n",
	   "	  <td>...</td>\n",
	   "	  <td>...</td>\n",
	   "	  <td>...</td>\n",
	   "	  <td>...</td>\n",
	   "	  <td>...</td>\n",
	   "	  <td>...</td>\n",
	   "	  <td>...</td>\n",
	   "	  <td>...</td>\n",
	   "	  <td>...</td>\n",
	   "	  <td>...</td>\n",
	   "	  <td>...</td>\n",
	   "	  <td>...</td>\n",
	   "	  <td>...</td>\n",
	   "	  <td>...</td>\n",
	   "	  <td>...</td>\n",
	   "	  <td>...</td>\n",
	   "	  <td>...</td>\n",
	   "	  <td>...</td>\n",
	   "	  <td>...</td>\n",
	   "	  <td>...</td>\n",
	   "	  <td>...</td>\n",
	   "	  <td>...</td>\n",
	   "	</tr>\n",
	   "	<tr>\n",
	   "	  <th>437</th>\n",
	   "	  <td>1576531927508</td>\n",
	   "	  <td>1.545989e+12</td>\n",
	   "	  <td></td>\n",
	   "	  <td>9336701</td>\n",
	   "	  <td>436.0</td>\n",
	   "	  <td>FR_BAS/vcall</td>\n",
	   "	  <td>LIQ.V</td>\n",
	   "	  <td>20180871</td>\n",
	   "	  <td>False</td>\n",
	   "	  <td>2997.0</td>\n",
	   "	  <td>1.545908e+12</td>\n",
	   "	  <td>1.546044e+12</td>\n",
	   "	  <td>LIQ.V</td>\n",
	   "	  <td>0.0</td>\n",
	   "	  <td>I.HUILE COLZA</td>\n",
	   "	  <td>SEAINVEST</td>\n",
	   "	  <td>436.0</td>\n",
	   "	  <td>ORASUND</td>\n",
	   "	  <td>False</td>\n",
	   "	  <td>44.863</td>\n",
	   "	  <td>-0.5472</td>\n",
	   "	  <td>http://FR_BAS/vcall</td>\n",
	   "	  <td>loading</td>\n",
	   "	  <td>SEAINVEST</td>\n",
	   "	</tr>\n",
	   "	<tr>\n",
	   "	  <th>438</th>\n",
	   "	  <td>1576531927509</td>\n",
	   "	  <td>1.546046e+12</td>\n",
	   "	  <td>E.EMHV - EMAG - FAME</td>\n",
	   "	  <td>9827724</td>\n",
	   "	  <td>436.0</td>\n",
	   "	  <td>FR_BAS/vcall</td>\n",
	   "	  <td>LIQ.V</td>\n",
	   "	  <td>20180872</td>\n",
	   "	  <td>False</td>\n",
	   "	  <td>0.0</td>\n",
	   "	  <td>1.545941e+12</td>\n",
	   "	  <td>1.546146e+12</td>\n",
	   "	  <td>LIQ.V</td>\n",
	   "	  <td>4504.0</td>\n",
	   "	  <td></td>\n",
	   "	  <td>SEAINVEST</td>\n",
	   "	  <td>436.0</td>\n",
	   "	  <td>EMIRALP</td>\n",
	   "	  <td>False</td>\n",
	   "	  <td>44.863</td>\n",
	   "	  <td>-0.5472</td>\n",
	   "	  <td>http://FR_BAS/vcall</td>\n",
	   "	  <td>unloading</td>\n",
	   "	  <td>SEAINVEST</td>\n",
	   "	</tr>\n",
	   "	<tr>\n",
	   "	  <th>439</th>\n",
	   "	  <td>1576531927509</td>\n",
	   "	  <td>1.546261e+12</td>\n",
	   "	  <td></td>\n",
	   "	  <td>9148178</td>\n",
	   "	  <td>433.0</td>\n",
	   "	  <td>FR_BAS/vcall</td>\n",
	   "	  <td>SOL.V</td>\n",
	   "	  <td>20180873</td>\n",
	   "	  <td>False</td>\n",
	   "	  <td>3122.0</td>\n",
	   "	  <td>1.545990e+12</td>\n",
	   "	  <td>1.546268e+12</td>\n",
	   "	  <td>SOL.V</td>\n",
	   "	  <td>0.0</td>\n",
	   "	  <td>I.SEL</td>\n",
	   "	  <td>SEAINVEST</td>\n",
	   "	  <td>433.0</td>\n",
	   "	  <td>MARRY-S</td>\n",
	   "	  <td>False</td>\n",
	   "	  <td>44.863</td>\n",
	   "	  <td>-0.5472</td>\n",
	   "	  <td>http://FR_BAS/vcall</td>\n",
	   "	  <td>unloading</td>\n",
	   "	  <td>SEAINVEST</td>\n",
	   "	</tr>\n",
	   "	<tr>\n",
	   "	  <th>440</th>\n",
	   "	  <td>1576531927511</td>\n",
	   "	  <td>NaN</td>\n",
	   "	  <td>NaN</td>\n",
	   "	  <td>9392640</td>\n",
	   "	  <td>NaN</td>\n",
	   "	  <td>FR_BAS/vcall</td>\n",
	   "	  <td>NaN</td>\n",
	   "	  <td>20180878</td>\n",
	   "	  <td>NaN</td>\n",
	   "	  <td>1998.0</td>\n",
	   "	  <td>1.546214e+12</td>\n",
	   "	  <td>NaN</td>\n",
	   "	  <td>LIQ.V</td>\n",
	   "	  <td>NaN</td>\n",
	   "	  <td>I.EMHV - EMAG - FAME</td>\n",
	   "	  <td>SEAINVEST</td>\n",
	   "	  <td>436.0</td>\n",
	   "	  <td>ORAMALIA</td>\n",
	   "	  <td>False</td>\n",
	   "	  <td>44.863</td>\n",
	   "	  <td>-0.5472</td>\n",
	   "	  <td>http://FR_BAS/vcall</td>\n",
	   "	  <td>unloading</td>\n",
	   "	  <td>NaN</td>\n",
	   "	</tr>\n",
	   "	<tr>\n",
	   "	  <th>441</th>\n",
	   "	  <td>1576531927511</td>\n",
	   "	  <td>NaN</td>\n",
	   "	  <td>NaN</td>\n",
	   "	  <td>9391127</td>\n",
	   "	  <td>NaN</td>\n",
	   "	  <td>FR_BAS/vcall</td>\n",
	   "	  <td>NaN</td>\n",
	   "	  <td>20180879</td>\n",
	   "	  <td>NaN</td>\n",
	   "	  <td>3145.0</td>\n",
	   "	  <td>1.546264e+12</td>\n",
	   "	  <td>NaN</td>\n",
	   "	  <td>LIQ.V</td>\n",
	   "	  <td>NaN</td>\n",
	   "	  <td>I.HUILE COLZA</td>\n",
	   "	  <td>SEAINVEST</td>\n",
	   "	  <td>436.0</td>\n",
	   "	  <td>STRAITVIEW</td>\n",
	   "	  <td>False</td>\n",
	   "	  <td>44.863</td>\n",
	   "	  <td>-0.5472</td>\n",
	   "	  <td>http://FR_BAS/vcall</td>\n",
	   "	  <td>unloading</td>\n",
	   "	  <td>NaN</td>\n",
	   "	</tr>\n",
	   "  </tbody>\n",
	   "</table>\n",
	   "<p>442 rows × 24 columns</p>\n",
	   "</div>"
	  ],
	  "text/plain": [
	   "		 timestamp  departure_handling_dock	 loading_cargo_type	  IMO  \\\n",
	   "0	1576531926565			 1.515360e+12						 9571545   \n",
	   "1	1576531926565			 1.515007e+12						 9803429   \n",
	   "2	1576531926565			 1.515448e+12						 9534298   \n",
	   "3	1576531926566			 1.515101e+12	  E.HUILE TOURNESOL  9377092   \n",
	   "4	1576531926567			 1.517341e+12						 9699854   \n",
	   "..			 ...					  ...					...	  ...   \n",
	   "437  1576531927508			 1.545989e+12						 9336701   \n",
	   "438  1576531927509			 1.546046e+12  E.EMHV - EMAG - FAME   9827724   \n",
	   "439  1576531927509			 1.546261e+12						 9148178   \n",
	   "440  1576531927511					  NaN					NaN  9392640   \n",
	   "441  1576531927511					  NaN					NaN  9391127   \n",
	   "\n",
	   "	 loading_berth		source loading_cargo_fiscal_type  journeyid  \\\n",
	   "0			435.0  FR_BAS/vcall					 SOL.V   20180001   \n",
	   "1			436.0  FR_BAS/vcall					 LIQ.V   20180002   \n",
	   "2			416.0  FR_BAS/vcall					 SOL.V   20180003   \n",
	   "3			436.0  FR_BAS/vcall					 LIQ.V   20180004   \n",
	   "4			434.0  FR_BAS/vcall					 SOL.V   20180006   \n",
	   "..			 ...		   ...					   ...		...   \n",
	   "437		  436.0  FR_BAS/vcall					 LIQ.V   20180871   \n",
	   "438		  436.0  FR_BAS/vcall					 LIQ.V   20180872   \n",
	   "439		  433.0  FR_BAS/vcall					 SOL.V   20180873   \n",
	   "440			NaN  FR_BAS/vcall					   NaN   20180878   \n",
	   "441			NaN  FR_BAS/vcall					   NaN   20180879   \n",
	   "\n",
	   "	loading_dangerous  unloading_tonnage  arrival_handling_dock	 pixel_etd  \\\n",
	   "0			   False			10094.0		   1.514833e+12  1.515267e+12   \n",
	   "1			   False			 2500.0		   1.514918e+12  1.515026e+12   \n",
	   "2			   False			 5703.0		   1.514919e+12  1.515250e+12   \n",
	   "3			   False				0.0		   1.515008e+12  1.515151e+12   \n",
	   "4			   False			32351.0		   1.515234e+12  1.515706e+12   \n",
	   "..				...				...					...		   ...   \n",
	   "437			 False			 2997.0		   1.545908e+12  1.546044e+12   \n",
	   "438			 False				0.0		   1.545941e+12  1.546146e+12   \n",
	   "439			 False			 3122.0		   1.545990e+12  1.546268e+12   \n",
	   "440			   NaN			 1998.0		   1.546214e+12		   NaN   \n",
	   "441			   NaN			 3145.0		   1.546264e+12		   NaN   \n",
	   "\n",
	   "	unloading_cargo_fiscal_type  loading_tonnage  unloading_cargo_type  \\\n",
	   "0						 SOL.V			  0.0			 I.CHARBON   \n",
	   "1						 LIQ.V			  0.0  I.EMHV - EMAG - FAME   \n",
	   "2						 SOL.V			  0.0			 I.CLINKER   \n",
	   "3						 LIQ.V		   2424.0						 \n",
	   "4						 SOL.V			  0.0	  I.TOURNESOL VRAC   \n",
	   "..						  ...			  ...				   ...   \n",
	   "437					   LIQ.V			  0.0		 I.HUILE COLZA   \n",
	   "438					   LIQ.V		   4504.0						 \n",
	   "439					   SOL.V			  0.0				 I.SEL   \n",
	   "440					   LIQ.V			  NaN  I.EMHV - EMAG - FAME   \n",
	   "441					   LIQ.V			  NaN		 I.HUILE COLZA   \n",
	   "\n",
	   "	unloading_agent  unloading_berth		   name unloading_dangerous  \\\n",
	   "0		 SEAINVEST			435.0	 MUNTGRACHT			   False   \n",
	   "1		 SEAINVEST			436.0		  TANAB			   False   \n",
	   "2		 SEAINVEST			416.0		 JOHANN			   False   \n",
	   "3		 SEAINVEST			436.0		  LEENI			   False   \n",
	   "4		  MARMEDSA			413.0  DESERT RANGER			   False   \n",
	   "..			  ...			  ...			...				 ...   \n",
	   "437	   SEAINVEST			436.0		ORASUND			   False   \n",
	   "438	   SEAINVEST			436.0		EMIRALP			   False   \n",
	   "439	   SEAINVEST			433.0		MARRY-S			   False   \n",
	   "440	   SEAINVEST			436.0	   ORAMALIA			   False   \n",
	   "441	   SEAINVEST			436.0	 STRAITVIEW			   False   \n",
	   "\n",
	   "	 location__lon  location__lat		 dataProvider  operation  \\\n",
	   "0		   44.863		-0.5472  http://FR_BAS/vcall  unloading   \n",
	   "1		   44.863		-0.5472  http://FR_BAS/vcall  unloading   \n",
	   "2		   44.863		-0.5472  http://FR_BAS/vcall  unloading   \n",
	   "3		   44.863		-0.5472  http://FR_BAS/vcall	loading   \n",
	   "4		   44.863		-0.5472  http://FR_BAS/vcall	loading   \n",
	   "..			 ...			...				  ...		...   \n",
	   "437		 44.863		-0.5472  http://FR_BAS/vcall	loading   \n",
	   "438		 44.863		-0.5472  http://FR_BAS/vcall  unloading   \n",
	   "439		 44.863		-0.5472  http://FR_BAS/vcall  unloading   \n",
	   "440		 44.863		-0.5472  http://FR_BAS/vcall  unloading   \n",
	   "441		 44.863		-0.5472  http://FR_BAS/vcall  unloading   \n",
	   "\n",
	   "	loading_agent  \n",
	   "0	   SEAINVEST  \n",
	   "1	   SEAINVEST  \n",
	   "2	   SEAINVEST  \n",
	   "3	   SEAINVEST  \n",
	   "4		MARMEDSA  \n",
	   "..			...  \n",
	   "437	 SEAINVEST  \n",
	   "438	 SEAINVEST  \n",
	   "439	 SEAINVEST  \n",
	   "440		   NaN  \n",
	   "441		   NaN  \n",
	   "\n",
	   "[442 rows x 24 columns]"
	  ]
	 },
	 "execution_count": 219,
	 "metadata": {},
	 "output_type": "execute_result"
	}
   ],
   "source": [
	"#CHARGEMENT\n",
	"\n",
	"\n",
	"with open(\"../../inputs/GPMB/IH_2018.json\") as json_file:\n",
	"	ih_df = json.load(json_file)\n",
	"\n",
	"ih_df = pd.json_normalize(\n",
	"	ih_df[0][\"records\"], #On filtre sur 0 car on a un seul terminal présent\n",
	"	sep=\"__\"\n",
	")\n",
	"\n",
	"ih_df.columns = ['timestamp', 'departure_handling_dock', 'loading_cargo_type', 'IMO', 'loading_berth', 'source', 'loading_cargo_fiscal_type', 'journeyid', 'loading_dangerous', 'unloading_tonnage', 'arrival_handling_dock', 'pixel_etd', 'unloading_cargo_fiscal_type', 'loading_tonnage', 'unloading_cargo_type', 'unloading_agent', 'unloading_berth', 'name', 'unloading_dangerous', 'location__lon', 'location__lat', 'dataProvider', 'operation', 'loading_agent']\n",
	"\n",
	"\n",
	"#ih_df.shape\n",
	"ih_df"
   ]
  },
  {
   "cell_type": "code",
   "execution_count": 220,
   "metadata": {
	"Collapsed": "false"
   },
   "outputs": [
	{
	 "data": {
	  "text/html": [
	   "<div>\n",
	   "<style scoped>\n",
	   "	.dataframe tbody tr th:only-of-type {\n",
	   "		vertical-align: middle;\n",
	   "	}\n",
	   "\n",
	   "	.dataframe tbody tr th {\n",
	   "		vertical-align: top;\n",
	   "	}\n",
	   "\n",
	   "	.dataframe thead th {\n",
	   "		text-align: right;\n",
	   "	}\n",
	   "</style>\n",
	   "<table border=\"1\" class=\"dataframe\">\n",
	   "  <thead>\n",
	   "	<tr style=\"text-align: right;\">\n",
	   "	  <th></th>\n",
	   "	  <th>handling_type</th>\n",
	   "	  <th>content_type</th>\n",
	   "	  <th>handling_dock</th>\n",
	   "	  <th>content_amount</th>\n",
	   "	  <th>handling_direction</th>\n",
	   "	</tr>\n",
	   "  </thead>\n",
	   "  <tbody>\n",
	   "	<tr>\n",
	   "	  <th>3</th>\n",
	   "	  <td>LIQ.V</td>\n",
	   "	  <td>E.HUILE TOURNESOL</td>\n",
	   "	  <td>436</td>\n",
	   "	  <td>2424</td>\n",
	   "	  <td>loading</td>\n",
	   "	</tr>\n",
	   "	<tr>\n",
	   "	  <th>5</th>\n",
	   "	  <td>CEREAL</td>\n",
	   "	  <td>E.MAIS VRAC</td>\n",
	   "	  <td>449</td>\n",
	   "	  <td>4522</td>\n",
	   "	  <td>loading</td>\n",
	   "	</tr>\n",
	   "	<tr>\n",
	   "	  <th>9</th>\n",
	   "	  <td>P.C.</td>\n",
	   "	  <td>E.CONTENEURS</td>\n",
	   "	  <td>432</td>\n",
	   "	  <td>1217</td>\n",
	   "	  <td>loading</td>\n",
	   "	</tr>\n",
	   "	<tr>\n",
	   "	  <th>10</th>\n",
	   "	  <td>SOL.V</td>\n",
	   "	  <td>E.FERRAIL.REFONT.</td>\n",
	   "	  <td>414</td>\n",
	   "	  <td>4666</td>\n",
	   "	  <td>loading</td>\n",
	   "	</tr>\n",
	   "	<tr>\n",
	   "	  <th>11</th>\n",
	   "	  <td>CEREAL</td>\n",
	   "	  <td>E.MAIS VRAC</td>\n",
	   "	  <td>449</td>\n",
	   "	  <td>3810</td>\n",
	   "	  <td>loading</td>\n",
	   "	</tr>\n",
	   "	<tr>\n",
	   "	  <th>...</th>\n",
	   "	  <td>...</td>\n",
	   "	  <td>...</td>\n",
	   "	  <td>...</td>\n",
	   "	  <td>...</td>\n",
	   "	  <td>...</td>\n",
	   "	</tr>\n",
	   "	<tr>\n",
	   "	  <th>436</th>\n",
	   "	  <td>GAZ.L</td>\n",
	   "	  <td>I.BUTADIENE</td>\n",
	   "	  <td>436</td>\n",
	   "	  <td>2100</td>\n",
	   "	  <td>unloading</td>\n",
	   "	</tr>\n",
	   "	<tr>\n",
	   "	  <th>437</th>\n",
	   "	  <td>LIQ.V</td>\n",
	   "	  <td>I.HUILE COLZA</td>\n",
	   "	  <td>436</td>\n",
	   "	  <td>2997</td>\n",
	   "	  <td>unloading</td>\n",
	   "	</tr>\n",
	   "	<tr>\n",
	   "	  <th>439</th>\n",
	   "	  <td>SOL.V</td>\n",
	   "	  <td>I.SEL</td>\n",
	   "	  <td>433</td>\n",
	   "	  <td>3122</td>\n",
	   "	  <td>unloading</td>\n",
	   "	</tr>\n",
	   "	<tr>\n",
	   "	  <th>440</th>\n",
	   "	  <td>LIQ.V</td>\n",
	   "	  <td>I.EMHV - EMAG - FAME</td>\n",
	   "	  <td>436</td>\n",
	   "	  <td>1998</td>\n",
	   "	  <td>unloading</td>\n",
	   "	</tr>\n",
	   "	<tr>\n",
	   "	  <th>441</th>\n",
	   "	  <td>LIQ.V</td>\n",
	   "	  <td>I.HUILE COLZA</td>\n",
	   "	  <td>436</td>\n",
	   "	  <td>3145</td>\n",
	   "	  <td>unloading</td>\n",
	   "	</tr>\n",
	   "  </tbody>\n",
	   "</table>\n",
	   "<p>510 rows × 5 columns</p>\n",
	   "</div>"
	  ],
	  "text/plain": [
	   "	handling_type		  content_type handling_dock  content_amount  \\\n",
	   "3		   LIQ.V	 E.HUILE TOURNESOL		   436			2424   \n",
	   "5		  CEREAL		   E.MAIS VRAC		   449			4522   \n",
	   "9			P.C.		  E.CONTENEURS		   432			1217   \n",
	   "10		  SOL.V	 E.FERRAIL.REFONT.		   414			4666   \n",
	   "11		 CEREAL		   E.MAIS VRAC		   449			3810   \n",
	   "..			...				   ...		   ...			 ...   \n",
	   "436		 GAZ.L		   I.BUTADIENE		   436			2100   \n",
	   "437		 LIQ.V		 I.HUILE COLZA		   436			2997   \n",
	   "439		 SOL.V				 I.SEL		   433			3122   \n",
	   "440		 LIQ.V  I.EMHV - EMAG - FAME		   436			1998   \n",
	   "441		 LIQ.V		 I.HUILE COLZA		   436			3145   \n",
	   "\n",
	   "	handling_direction  \n",
	   "3			  loading  \n",
	   "5			  loading  \n",
	   "9			  loading  \n",
	   "10			 loading  \n",
	   "11			 loading  \n",
	   "..				 ...  \n",
	   "436		  unloading  \n",
	   "437		  unloading  \n",
	   "439		  unloading  \n",
	   "440		  unloading  \n",
	   "441		  unloading  \n",
	   "\n",
	   "[510 rows x 5 columns]"
	  ]
	 },
	 "execution_count": 220,
	 "metadata": {},
	 "output_type": "execute_result"
	},
	{
	 "data": {
	  "text/plain": [
	   "11"
	  ]
	 },
	 "execution_count": 220,
	 "metadata": {},
	 "output_type": "execute_result"
	},
	{
	 "data": {
	  "text/plain": [
	   "handling_type  handling_direction\n",
	   "AUTRES		 loading				 2\n",
	   "			   unloading			  23\n",
	   "CEREAL		 loading			   102\n",
	   "GAZ.L		  loading				 1\n",
	   "			   unloading			  27\n",
	   "LIQ.V		  loading				49\n",
	   "			   unloading			  68\n",
	   "P.C.		   loading				67\n",
	   "			   unloading			  66\n",
	   "SOL.V		  loading				33\n",
	   "			   unloading			  72\n",
	   "Name: content_amount, dtype: int64"
	  ]
	 },
	 "execution_count": 220,
	 "metadata": {},
	 "output_type": "execute_result"
	}
   ],
   "source": [
	"# EXTRACTION\n",
	"\n",
	"\n",
	"nomsColonnes = [\"handling_type\", \"content_type\", \"handling_dock\", \"content_amount\", \"handling_direction\"]\n",
	"\n",
	"load = ih_df.loc[:, [\"loading_cargo_fiscal_type\", \"loading_cargo_type\", \"loading_berth\", \"loading_tonnage\", \"operation\"]]\n",
	"load.columns = nomsColonnes\n",
	"\n",
	"unload = ih_df.loc[:, [\"unloading_cargo_fiscal_type\", \"unloading_cargo_type\", \"unloading_berth\", \"unloading_tonnage\", \"operation\"]]\n",
	"unload.columns = nomsColonnes\n",
	"	\n",
	"data = pd.concat([load, unload])\n",
	"\n",
	"data.replace({\"\":np.nan, 0:np.nan}, inplace=True)\n",
	"data.dropna(subset=[\"handling_type\", \"content_type\", \"handling_dock\", \"content_amount\", \"handling_direction\"], inplace=True)\n",
	"\n",
	"col= [\"handling_dock\", \"content_amount\"]\n",
	"data[col] = data[col].astype('int32')\n",
	"#data.astype({}, copy=False)\n",
	"data[\"handling_dock\"] = data[\"handling_dock\"].astype('str') #On conserve la première conversion en int pr ne pas avoir les traces du passage par float\n",
	"\n",
	"# Pr la handling_direction, on ne peut pas selectionner le cas le plus fréquent (comme pr handling_type), mais on doit forcer\n",
	"data.loc[data.content_type.str.startswith(\"E\"), \"handling_direction\"] = \"loading\"\n",
	"data.loc[data.content_type.str.startswith(\"I\"), \"handling_direction\"] = \"unloading\"\n",
	"\n",
	"\n",
	"data\n",
	"len(data.groupby([\"handling_type\", \"handling_direction\"])[\"content_amount\"].count())\n",
	"data.groupby([\"handling_type\", \"handling_direction\"])[\"content_amount\"].count()"
   ]
  },
  {
   "cell_type": "code",
   "execution_count": 221,
   "metadata": {
	"Collapsed": "false"
   },
   "outputs": [
	{
	 "data": {
	  "text/plain": [
	   "(48, 5)"
	  ]
	 },
	 "execution_count": 221,
	 "metadata": {},
	 "output_type": "execute_result"
	},
	{
	 "data": {
	  "text/html": [
	   "<div>\n",
	   "<style scoped>\n",
	   "	.dataframe tbody tr th:only-of-type {\n",
	   "		vertical-align: middle;\n",
	   "	}\n",
	   "\n",
	   "	.dataframe tbody tr th {\n",
	   "		vertical-align: top;\n",
	   "	}\n",
	   "\n",
	   "	.dataframe thead th {\n",
	   "		text-align: right;\n",
	   "	}\n",
	   "</style>\n",
	   "<table border=\"1\" class=\"dataframe\">\n",
	   "  <thead>\n",
	   "	<tr style=\"text-align: right;\">\n",
	   "	  <th></th>\n",
	   "	  <th>content_type</th>\n",
	   "	  <th>handling_direction</th>\n",
	   "	  <th>handling_type</th>\n",
	   "	  <th>handling_dock</th>\n",
	   "	  <th>supplychain</th>\n",
	   "	</tr>\n",
	   "  </thead>\n",
	   "  <tbody>\n",
	   "	<tr>\n",
	   "	  <th>0</th>\n",
	   "	  <td>E.BLE VRAC</td>\n",
	   "	  <td>loading</td>\n",
	   "	  <td>CEREAL</td>\n",
	   "	  <td>[449]</td>\n",
	   "	  <td>loading_CEREAL</td>\n",
	   "	</tr>\n",
	   "	<tr>\n",
	   "	  <th>1</th>\n",
	   "	  <td>E.CER.+OLEAG. MIXTES</td>\n",
	   "	  <td>loading</td>\n",
	   "	  <td>CEREAL</td>\n",
	   "	  <td>[417, 449]</td>\n",
	   "	  <td>loading_CEREAL</td>\n",
	   "	</tr>\n",
	   "	<tr>\n",
	   "	  <th>2</th>\n",
	   "	  <td>E.CEREALES MIXTES VRAC</td>\n",
	   "	  <td>loading</td>\n",
	   "	  <td>CEREAL</td>\n",
	   "	  <td>[449, 417]</td>\n",
	   "	  <td>loading_CEREAL</td>\n",
	   "	</tr>\n",
	   "	<tr>\n",
	   "	  <th>3</th>\n",
	   "	  <td>E.COLIS LOURDS</td>\n",
	   "	  <td>loading</td>\n",
	   "	  <td>AUTRES</td>\n",
	   "	  <td>[413, 417]</td>\n",
	   "	  <td>loading_AUTRES</td>\n",
	   "	</tr>\n",
	   "	<tr>\n",
	   "	  <th>4</th>\n",
	   "	  <td>E.COLZA VRAC</td>\n",
	   "	  <td>loading</td>\n",
	   "	  <td>CEREAL</td>\n",
	   "	  <td>[449]</td>\n",
	   "	  <td>loading_CEREAL</td>\n",
	   "	</tr>\n",
	   "  </tbody>\n",
	   "</table>\n",
	   "</div>"
	  ],
	  "text/plain": [
	   "			 content_type handling_direction handling_type handling_dock  \\\n",
	   "0			  E.BLE VRAC			loading		CEREAL		 [449]   \n",
	   "1	E.CER.+OLEAG. MIXTES			loading		CEREAL	[417, 449]   \n",
	   "2  E.CEREALES MIXTES VRAC			loading		CEREAL	[449, 417]   \n",
	   "3		  E.COLIS LOURDS			loading		AUTRES	[413, 417]   \n",
	   "4			E.COLZA VRAC			loading		CEREAL		 [449]   \n",
	   "\n",
	   "	  supplychain  \n",
	   "0  loading_CEREAL  \n",
	   "1  loading_CEREAL  \n",
	   "2  loading_CEREAL  \n",
	   "3  loading_AUTRES  \n",
	   "4  loading_CEREAL  "
	  ]
	 },
	 "execution_count": 221,
	 "metadata": {},
	 "output_type": "execute_result"
	}
   ],
   "source": [
	"# RESHAPING\n",
	"\n",
	"data_core = pd.DataFrame(\n",
	"	data.groupby([\"content_type\", \"handling_direction\"])[\"handling_type\"].agg(lambda x:x.value_counts().index[0]) #On prend uniquement la valeur la plus fréquence (possible égalité)\n",
	")\n",
	"\n",
	"data_core.insert(1, \"handling_dock\", \n",
	"				 data.groupby([\"content_type\", \"handling_direction\"])[\"handling_dock\"].apply(lambda x: pd.unique(x).tolist())) #On passe en valeur la liste de tous les handling_docks ayant correspondus\n",
	"\n",
	"data_core.reset_index(inplace= True)\n",
	"\n",
	"data_core[\"supplychain\"]= data_core[\"handling_direction\"] + '_' + data_core[\"handling_type\"]\n",
	"\n",
	"\n",
	"data_core.shape\n",
	"data_core.head()"
   ]
  },
  {
   "cell_type": "markdown",
   "metadata": {
	"Collapsed": "false"
   },
   "source": [
	"# RULES"
   ]
  },
  {
   "cell_type": "markdown",
   "metadata": {
	"Collapsed": "false"
   },
   "source": [
	"## Content_Type"
   ]
  },
  {
   "cell_type": "code",
   "execution_count": 222,
   "metadata": {
	"Collapsed": "false"
   },
   "outputs": [],
   "source": [
	"def content_type_jsonification(ligne):\n",
	"	item_dict = {\n",
	"		\"content_type_ID\": ligne.content_type,\n",
	"		\"label\":\"Some label\",\n",
	"		\"comment\": \"Some comment\",\n",
	"		\"handling_type\": ligne.handling_type, #parler de catégorie, famille, parent ?\n",
	"		\"unit\": \"Tons\",\n",
	"		\"possible_SC_assignation_list\": [\n",
	"			{\n",
	"				\"supplychain\": ligne.supplychain,\n",
	"				\"restrictions\": {\n",
	"					\"direction\":ligne.handling_direction,\n",
	"					\"dock\": ligne.handling_dock,\n",
	"					\"amount_min\": 1000,\n",
	"					\"amount_max\": 50000\n",
	"				}\n",
	"			}\n",
	"		]\n",
	"	}\n",
	"	return item_dict\n",
	"\n",
	"RULES_content_type_list = {\n",
	"	\"content_type_list\": list(\n",
	"		data_core.apply(\n",
	"			content_type_jsonification, \n",
	"			axis= 1,\n",
	"			result_type= 'reduce'\n",
	"		)\n",
	"	)\n",
	"}"
   ]
  },
  {
   "cell_type": "markdown",
   "metadata": {
	"Collapsed": "false"
   },
   "source": [
	"## Cloture RULES"
   ]
  },
  {
   "cell_type": "code",
   "execution_count": 223,
   "metadata": {
	"Collapsed": "false"
   },
   "outputs": [],
   "source": [
	"RULES = {\n",
	"	\"content_type_list\": list(\n",
	"		data_core.apply(\n",
	"			content_type_jsonification, \n",
	"			axis= 1,\n",
	"			result_type= 'reduce'\n",
	"		)\n",
	"	),\n",
	"	\"shiftworks\":[\n",
	"		{\n",
	"			\"ID\":\"typical\",\n",
	"			\"value\":[\n",
	"				{\"Monday\":[\"8>12\",\"14>17\"]},\n",
	"				{\"Tuesday\":[\"8>12\",\"14>17\"]},\n",
	"				{\"Wednesday\":[\"8>12\",\"14>17\"]},\n",
	"				{\"Thursday\":[\"8>12\",\"14>17\"]},\n",
	"				{\"Friday\":[\"8>12\",\"14>17\"]},\n",
	"				{\"Saturday\":[]},\n",
	"				{\"Sunday\":[]}\n",
	"			]\n",
	"		}\n",
	"	],\n",
	"	\"handling_priority\": {}\n",
	"}"
   ]
  },
  {
   "cell_type": "code",
   "execution_count": 224,
   "metadata": {
	"Collapsed": "false"
   },
   "outputs": [],
   "source": [
	"exportJson(RULES, \"../../inputs/GPMB/RULES.json\")"
   ]
  },
  {
   "cell_type": "markdown",
   "metadata": {
	"Collapsed": "false"
   },
   "source": [
	"# SUPPYCHAINS"
   ]
  },
  {
   "cell_type": "code",
   "execution_count": null,
   "metadata": {
	"Collapsed": "false"
   },
   "outputs": [],
   "source": [
	"# Préparation des données \n",
	"\n",
	"df = data_core\n",
	"df.columns = [\"cargoes_content_type\", \"handling_directions_nature\", \"handling_type\", \"handling_dock_ID\", \"ID\"]\n",
	"\n",
	"supChain_df = pd.DataFrame(\n",
	"	data= df.groupby([\"ID\", \"handling_directions_nature\"])[\"cargoes_content_type\"].apply(lambda x: pd.unique(x).tolist()),\n",
	"	columns=[\"cargoes_content_type\"]\n",
	")\n",
	"\n",
	"supChain_df.insert(1, \"areas_ID\", \n",
	"	df.groupby([\"ID\", \"handling_directions_nature\"])[\"handling_dock_ID\"].apply(lambda x: list(set(x.sum())))\n",
	")\n",
	"\n",
	"supChain_df.reset_index(inplace= True)\n",
	"\n",
	"\n",
	"supChain_df"
   ]
  },
  {
   "cell_type": "code",
   "execution_count": null,
   "metadata": {
	"Collapsed": "false"
   },
   "outputs": [],
   "source": [
	"# Convertion en json\n",
	"\n",
	"supChain_Json = json.loads(supChain_df.to_json(orient='records', indent=4))\n",
	"\n",
	"for item in supChain_Json :\n",
	"	item[\"ID\"]= item[\"ID\"]\n",
	"	item[\"label\"]= \"Some label\"\n",
	"	item[\"comment\"]= \"Some comment\"\n",
	"	item[\"compatibility\"]= {\n",
	"		\"cargoes_content_type\": item[\"cargoes_content_type\"],\n",
	"		\"handling_directions_nature\": [item[\"handling_directions_nature\"]],\n",
	"		\"areas_ID\": item[\"areas_ID\"],\n",
	"		\"shiftworks_ID\": [\"typical\"]\n",
	"	}\n",
	"	item[\"steps_list\"]= [\n",
	"		{\n",
	"			\"ID\": \"Step1\",\n",
	"			\"label\": \"step's name\",\n",
	"			\"comment\": \"step's comment\",\n",
	"			\"content_type\": \"Initialization\",\n",
	"			\"scheduling\": {\n",
	"				\"start\": {\n",
	"					\"nature\": \"delay\",\n",
	"					\"value\": 0\n",
	"				},\n",
	"				\"duration\": {\n",
	"					\"nature\": \"delay\",\n",
	"					\"value\": 20\n",
	"				}\n",
	"			},\n",
	"			\"work\": {\n",
	"				\"machines\": [\n",
	"					\"Machine1\"\n",
	"				],\n",
	"				\"nature\": \"parallel\",\n",
	"				\"distance\": \"on_spot\"\n",
	"			}\n",
	"		},\n",
	"		{\n",
	"			\"ID\": \"Step2\",\n",
	"			\"label\": \"step's name\",\n",
	"			\"comment\": \"step's comment\",\n",
	"			\"content_type\": \"Processing\",\n",
	"			\"scheduling\": {\n",
	"				\"start\": {\n",
	"					\"nature\": \"after_any\",\n",
	"					\"value\": [\"Step1\"]\n",
	"				},\n",
	"				\"duration\": {\n",
	"					\"nature\": \"cargo_%\",\n",
	"					\"value\": 100\n",
	"				}\n",
	"			},\n",
	"			\"work\": {\n",
	"				\"machines\": [\n",
	"					\"Machine2, Machine3\"\n",
	"				],\n",
	"				\"nature\": \"parallel\",\n",
	"				\"distance\": \"on_spot\"\n",
	"			}\n",
	"		}\n",
	"	]\n",
	"\n",
	"\n",
	"pprint.PrettyPrinter(indent=4).pprint(supChain_Json[0])"
   ]
  },
  {
   "cell_type": "code",
   "execution_count": null,
   "metadata": {
	"Collapsed": "false"
   },
   "outputs": [],
   "source": [
	"#lister l'ensemble des machines référencées dans le json\n",
	"supChain_Json[][\"ID\"]"
   ]
  },
  {
   "cell_type": "markdown",
   "metadata": {
	"Collapsed": "false"
   },
   "source": [
	"# RESSOURCE"
   ]
  },
  {
   "cell_type": "code",
   "execution_count": null,
   "metadata": {
	"Collapsed": "false"
   },
   "outputs": [],
   "source": [
	"#load json object\n",
	"with open('./RESSOURCES_demo.json') as json_file:\n",
	"	ressources = json.load(json_file)\n",
	"\n",
	"ressources = json_normalize(ressources['machines'])\n",
	"\n",
	"\n",
	"ressources.head()"
   ]
  },
  {
   "cell_type": "code",
   "execution_count": null,
   "metadata": {
	"Collapsed": "false"
   },
   "outputs": [],
   "source": [
	"\n",
	"\n",
	"others_list = []"
   ]
  },
  {
   "cell_type": "code",
   "execution_count": null,
   "metadata": {
	"Collapsed": "false"
   },
   "outputs": [],
   "source": [
	"# AREAS\n",
	"\n",
	"areas_list = []\n",
	"\n",
	"for handling_dock in data.handling_dock.unique() :\n",
	"	areas_list.append(\n",
	"		{\n",
	"			\"ID\": handling_dock,\n",
	"			\"label\": \"some label\",\n",
	"			\"comment\": \"some comment\",\n",
	"			\"content_type\": \"handling_dock\",\n",
	"			\"owner\": \"the owner\"\n",
	"			\"terminal\": \"the terminal\"\n",
	"			\n",
	"		}\n",
	"	)"
   ]
  },
  {
   "cell_type": "code",
   "execution_count": null,
   "metadata": {
	"Collapsed": "false"
   },
   "outputs": [],
   "source": [
	"# MACHINES\n",
	"\n",
	"machines_list = []\n",
	"\n",
	"for machine in "
   ]
  },
  {
   "cell_type": "code",
   "execution_count": null,
   "metadata": {
	"Collapsed": "false"
   },
   "outputs": [],
   "source": [
	"ressource = {\n",
	"	\"areas_list\":areas_list,\n",
	"	\"machines_list\":machines_list,\n",
	"	\"others_list\":others_list\n",
	"}\n",
	"\n",
	"\n",
	"print(json.dumps(ressource, indent=4))"
   ]
  },
  {
   "cell_type": "markdown",
   "metadata": {
	"Collapsed": "false"
   },
   "source": [
	"# SCRATCHPAD"
   ]
  },
  {
   "cell_type": "code",
   "execution_count": 195,
   "metadata": {
	"Collapsed": "false"
   },
   "outputs": [],
   "source": [
	"SC1, SC2, SC3 = {\"SC_ID\": \"SC_1\", \"suitable\": \"Oui\"}, \\\n",
	"				{\"SC_ID\": \"SC_2\", \"suitable\": \"Oui\"}, \\\n",
	"				{\"SC_ID\": \"SC_3\", \"suitable\": \"Non\"}  \\\n",
	"		\n",
	"CT1, CT2, CT3 = {\"possibles_SC\": []},				 \\\n",
	"				{\"possibles_SC\": [SC1, SC2]},		 \\\n",
	"				{\"possibles_SC\": [SC2, SC3]}		  \\\n",
	"\n",
	"matching_CT = [CT1, CT2, CT3]"
   ]
  },
  {
   "cell_type": "code",
   "execution_count": 201,
   "metadata": {
	"Collapsed": "false"
   },
   "outputs": [
	{
	 "data": {
	  "text/plain": [
	   "['possibles_SC', 'possibles_SC', 'possibles_SC']"
	  ]
	 },
	 "execution_count": 201,
	 "metadata": {},
	 "output_type": "execute_result"
	}
   ],
   "source": [
	"[SC for CT[\"possibles_SC\"] in matching_CT for SC in CT[\"possibles_SC\"] ]#if SC[\"suitable\"]==\"Oui\" ]"
   ]
  },
  {
   "cell_type": "code",
   "execution_count": 208,
   "metadata": {
	"Collapsed": "false"
   },
   "outputs": [
	{
	 "ename": "TypeError",
	 "evalue": "string indices must be integers",
	 "output_type": "error",
	 "traceback": [
	  "\u001b[0;31m---------------------------------------------------------------------------\u001b[0m",
	  "\u001b[0;31mTypeError\u001b[0m								 Traceback (most recent call last)",
	  "\u001b[0;32m<ipython-input-208-7313a016b091>\u001b[0m in \u001b[0;36m<module>\u001b[0;34m\u001b[0m\n\u001b[1;32m	  4\u001b[0m	 \u001b[0;32mif\u001b[0m \u001b[0mlen\u001b[0m\u001b[0;34m(\u001b[0m\u001b[0mCT\u001b[0m\u001b[0;34m)\u001b[0m\u001b[0;34m>\u001b[0m\u001b[0;36m0\u001b[0m\u001b[0;34m:\u001b[0m\u001b[0;34m\u001b[0m\u001b[0;34m\u001b[0m\u001b[0m\n\u001b[1;32m	  5\u001b[0m		 \u001b[0;32mfor\u001b[0m \u001b[0mSC\u001b[0m \u001b[0;32min\u001b[0m \u001b[0mCT\u001b[0m\u001b[0;34m[\u001b[0m\u001b[0;34m\"possibles_SC\"\u001b[0m\u001b[0;34m]\u001b[0m \u001b[0;34m:\u001b[0m\u001b[0;34m\u001b[0m\u001b[0;34m\u001b[0m\u001b[0m\n\u001b[0;32m----> 6\u001b[0;31m			 \u001b[0;32mif\u001b[0m \u001b[0mSC\u001b[0m\u001b[0;34m[\u001b[0m\u001b[0;34m\"suitable\"\u001b[0m\u001b[0;34m]\u001b[0m\u001b[0;34m==\u001b[0m\u001b[0;34m\"Oui\"\u001b[0m\u001b[0;34m:\u001b[0m\u001b[0;34m\u001b[0m\u001b[0;34m\u001b[0m\u001b[0m\n\u001b[0m\u001b[1;32m	  7\u001b[0m				 \u001b[0msuitable_SC_list\u001b[0m\u001b[0;34m.\u001b[0m\u001b[0mappend\u001b[0m\u001b[0;34m(\u001b[0m\u001b[0mSC\u001b[0m\u001b[0;34m[\u001b[0m\u001b[0;34m\"SC_ID\"\u001b[0m\u001b[0;34m]\u001b[0m\u001b[0;34m)\u001b[0m\u001b[0;34m\u001b[0m\u001b[0;34m\u001b[0m\u001b[0m\n\u001b[1;32m	  8\u001b[0m \u001b[0;34m\u001b[0m\u001b[0m\n",
	  "\u001b[0;31mTypeError\u001b[0m: string indices must be integers"
	 ]
	}
   ],
   "source": [
	"suitable_SC_list = []\n",
	"\n",
	"for CT in matching_CT :\n",
	"	if len(CT)>0:\n",
	"		for SC in CT[\"possibles_SC\"] :\n",
	"			if SC[\"suitable\"]==\"Oui\":\n",
	"				suitable_SC_list.append(SC[\"SC_ID\"])\n",
	"			\n",
	"set(suitable_SC_list)"
   ]
  },
  {
   "cell_type": "code",
   "execution_count": 204,
   "metadata": {
	"Collapsed": "false"
   },
   "outputs": [
	{
	 "name": "stdout",
	 "output_type": "stream",
	 "text": [
	  "{'possibles_SC': {...}}\n",
	  "{'possibles_SC': {...}}\n"
	 ]
	}
   ],
   "source": [
	"print(CT3)\n",
	"print(CT3[\"possibles_SC\"])"
   ]
  },
  {
   "cell_type": "code",
   "execution_count": null,
   "metadata": {
	"Collapsed": "false"
   },
   "outputs": [],
   "source": []
  }
 ],
 "metadata": {
  "kernelspec": {
   "display_name": "Python 3",
   "language": "python",
   "name": "python3"
  },
  "language_info": {
   "codemirror_mode": {
	"name": "ipython",
	"version": 3
   },
   "file_extension": ".py",
   "mimetype": "text/x-python",
   "name": "python",
   "nbconvert_exporter": "python",
   "pygments_lexer": "ipython3",
   "version": "3.8.1"
  },
  "toc": {
   "base_numbering": 1,
   "nav_menu": {
	"height": "381px",
	"width": "484px"
   },
   "number_sections": true,
   "sideBar": true,
   "skip_h1_title": false,
   "title_cell": "Table of Contents",
   "title_sidebar": "Contents",
   "toc_cell": false,
   "toc_position": {
	"height": "calc(100% - 180px)",
	"left": "10px",
	"top": "150px",
	"width": "219.2px"
   },
   "toc_section_display": true,
   "toc_window_display": true
  },
  "toc-autonumbering": true,
  "varInspector": {
   "cols": {
	"lenName": 16,
	"lenType": 16,
	"lenVar": 40
   },
   "kernels_config": {
	"python": {
	 "delete_cmd_postfix": "",
	 "delete_cmd_prefix": "del ",
	 "library": "var_list.py",
	 "varRefreshCmd": "print(var_dic_list())"
	},
	"r": {
	 "delete_cmd_postfix": ") ",
	 "delete_cmd_prefix": "rm(",
	 "library": "var_list.r",
	 "varRefreshCmd": "cat(var_dic_list()) "
	}
   },
   "types_to_exclude": [
	"module",
	"function",
	"builtin_function_or_method",
	"instance",
	"_Feature"
   ],
   "window_display": false
  }
 },
 "nbformat": 4,
 "nbformat_minor": 4
}